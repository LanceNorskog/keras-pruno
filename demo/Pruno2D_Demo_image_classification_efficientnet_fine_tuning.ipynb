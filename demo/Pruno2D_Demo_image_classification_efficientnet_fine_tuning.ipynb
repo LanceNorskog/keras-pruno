{
  "nbformat": 4,
  "nbformat_minor": 0,
  "metadata": {
    "colab": {
      "name": "Pruno2D Demo image_classification_efficientnet_fine_tuning",
      "provenance": [],
      "collapsed_sections": [],
      "toc_visible": true,
      "machine_shape": "hm"
    },
    "kernelspec": {
      "display_name": "Python 3",
      "language": "python",
      "name": "python3"
    },
    "language_info": {
      "codemirror_mode": {
        "name": "ipython",
        "version": 3
      },
      "file_extension": ".py",
      "mimetype": "text/x-python",
      "name": "python",
      "nbconvert_exporter": "python",
      "pygments_lexer": "ipython3",
      "version": "3.7.0"
    },
    "accelerator": "GPU",
    "widgets": {
      "application/vnd.jupyter.widget-state+json": {
        "82ee8f8daa6541e6b104a2f60ea14b0d": {
          "model_module": "@jupyter-widgets/controls",
          "model_name": "HBoxModel",
          "state": {
            "_view_name": "HBoxView",
            "_dom_classes": [],
            "_model_name": "HBoxModel",
            "_view_module": "@jupyter-widgets/controls",
            "_model_module_version": "1.5.0",
            "_view_count": null,
            "_view_module_version": "1.5.0",
            "box_style": "",
            "layout": "IPY_MODEL_4c6c8c3a4d25462d81a0f30f3bf8304b",
            "_model_module": "@jupyter-widgets/controls",
            "children": [
              "IPY_MODEL_9b446623ea0540e48bace4aa3d22ec63",
              "IPY_MODEL_e9fe36a4b22149c7a951afa66115c188"
            ]
          }
        },
        "4c6c8c3a4d25462d81a0f30f3bf8304b": {
          "model_module": "@jupyter-widgets/base",
          "model_name": "LayoutModel",
          "state": {
            "_view_name": "LayoutView",
            "grid_template_rows": null,
            "right": null,
            "justify_content": null,
            "_view_module": "@jupyter-widgets/base",
            "overflow": null,
            "_model_module_version": "1.2.0",
            "_view_count": null,
            "flex_flow": null,
            "width": null,
            "min_width": null,
            "border": null,
            "align_items": null,
            "bottom": null,
            "_model_module": "@jupyter-widgets/base",
            "top": null,
            "grid_column": null,
            "overflow_y": null,
            "overflow_x": null,
            "grid_auto_flow": null,
            "grid_area": null,
            "grid_template_columns": null,
            "flex": null,
            "_model_name": "LayoutModel",
            "justify_items": null,
            "grid_row": null,
            "max_height": null,
            "align_content": null,
            "visibility": null,
            "align_self": null,
            "height": null,
            "min_height": null,
            "padding": null,
            "grid_auto_rows": null,
            "grid_gap": null,
            "max_width": null,
            "order": null,
            "_view_module_version": "1.2.0",
            "grid_template_areas": null,
            "object_position": null,
            "object_fit": null,
            "grid_auto_columns": null,
            "margin": null,
            "display": null,
            "left": null
          }
        },
        "9b446623ea0540e48bace4aa3d22ec63": {
          "model_module": "@jupyter-widgets/controls",
          "model_name": "FloatProgressModel",
          "state": {
            "_view_name": "ProgressView",
            "style": "IPY_MODEL_e78ca6b5611c482d9d48cfd5a647a62e",
            "_dom_classes": [],
            "description": "Dl Completed...: 100%",
            "_model_name": "FloatProgressModel",
            "bar_style": "success",
            "max": 1,
            "_view_module": "@jupyter-widgets/controls",
            "_model_module_version": "1.5.0",
            "value": 1,
            "_view_count": null,
            "_view_module_version": "1.5.0",
            "orientation": "horizontal",
            "min": 0,
            "description_tooltip": null,
            "_model_module": "@jupyter-widgets/controls",
            "layout": "IPY_MODEL_85f8a13720234758a1e0b1c19de40f3b"
          }
        },
        "e9fe36a4b22149c7a951afa66115c188": {
          "model_module": "@jupyter-widgets/controls",
          "model_name": "HTMLModel",
          "state": {
            "_view_name": "HTMLView",
            "style": "IPY_MODEL_921d21e37053455195e9795f50a6bb05",
            "_dom_classes": [],
            "description": "",
            "_model_name": "HTMLModel",
            "placeholder": "​",
            "_view_module": "@jupyter-widgets/controls",
            "_model_module_version": "1.5.0",
            "value": " 1/1 [00:48&lt;00:00, 48.06s/ url]",
            "_view_count": null,
            "_view_module_version": "1.5.0",
            "description_tooltip": null,
            "_model_module": "@jupyter-widgets/controls",
            "layout": "IPY_MODEL_3bf27545e1b1458ab98671a6e09f63cc"
          }
        },
        "e78ca6b5611c482d9d48cfd5a647a62e": {
          "model_module": "@jupyter-widgets/controls",
          "model_name": "ProgressStyleModel",
          "state": {
            "_view_name": "StyleView",
            "_model_name": "ProgressStyleModel",
            "description_width": "initial",
            "_view_module": "@jupyter-widgets/base",
            "_model_module_version": "1.5.0",
            "_view_count": null,
            "_view_module_version": "1.2.0",
            "bar_color": null,
            "_model_module": "@jupyter-widgets/controls"
          }
        },
        "85f8a13720234758a1e0b1c19de40f3b": {
          "model_module": "@jupyter-widgets/base",
          "model_name": "LayoutModel",
          "state": {
            "_view_name": "LayoutView",
            "grid_template_rows": null,
            "right": null,
            "justify_content": null,
            "_view_module": "@jupyter-widgets/base",
            "overflow": null,
            "_model_module_version": "1.2.0",
            "_view_count": null,
            "flex_flow": null,
            "width": null,
            "min_width": null,
            "border": null,
            "align_items": null,
            "bottom": null,
            "_model_module": "@jupyter-widgets/base",
            "top": null,
            "grid_column": null,
            "overflow_y": null,
            "overflow_x": null,
            "grid_auto_flow": null,
            "grid_area": null,
            "grid_template_columns": null,
            "flex": null,
            "_model_name": "LayoutModel",
            "justify_items": null,
            "grid_row": null,
            "max_height": null,
            "align_content": null,
            "visibility": null,
            "align_self": null,
            "height": null,
            "min_height": null,
            "padding": null,
            "grid_auto_rows": null,
            "grid_gap": null,
            "max_width": null,
            "order": null,
            "_view_module_version": "1.2.0",
            "grid_template_areas": null,
            "object_position": null,
            "object_fit": null,
            "grid_auto_columns": null,
            "margin": null,
            "display": null,
            "left": null
          }
        },
        "921d21e37053455195e9795f50a6bb05": {
          "model_module": "@jupyter-widgets/controls",
          "model_name": "DescriptionStyleModel",
          "state": {
            "_view_name": "StyleView",
            "_model_name": "DescriptionStyleModel",
            "description_width": "",
            "_view_module": "@jupyter-widgets/base",
            "_model_module_version": "1.5.0",
            "_view_count": null,
            "_view_module_version": "1.2.0",
            "_model_module": "@jupyter-widgets/controls"
          }
        },
        "3bf27545e1b1458ab98671a6e09f63cc": {
          "model_module": "@jupyter-widgets/base",
          "model_name": "LayoutModel",
          "state": {
            "_view_name": "LayoutView",
            "grid_template_rows": null,
            "right": null,
            "justify_content": null,
            "_view_module": "@jupyter-widgets/base",
            "overflow": null,
            "_model_module_version": "1.2.0",
            "_view_count": null,
            "flex_flow": null,
            "width": null,
            "min_width": null,
            "border": null,
            "align_items": null,
            "bottom": null,
            "_model_module": "@jupyter-widgets/base",
            "top": null,
            "grid_column": null,
            "overflow_y": null,
            "overflow_x": null,
            "grid_auto_flow": null,
            "grid_area": null,
            "grid_template_columns": null,
            "flex": null,
            "_model_name": "LayoutModel",
            "justify_items": null,
            "grid_row": null,
            "max_height": null,
            "align_content": null,
            "visibility": null,
            "align_self": null,
            "height": null,
            "min_height": null,
            "padding": null,
            "grid_auto_rows": null,
            "grid_gap": null,
            "max_width": null,
            "order": null,
            "_view_module_version": "1.2.0",
            "grid_template_areas": null,
            "object_position": null,
            "object_fit": null,
            "grid_auto_columns": null,
            "margin": null,
            "display": null,
            "left": null
          }
        },
        "ed1cdcef0b3d4dabab54cf52f439510b": {
          "model_module": "@jupyter-widgets/controls",
          "model_name": "HBoxModel",
          "state": {
            "_view_name": "HBoxView",
            "_dom_classes": [],
            "_model_name": "HBoxModel",
            "_view_module": "@jupyter-widgets/controls",
            "_model_module_version": "1.5.0",
            "_view_count": null,
            "_view_module_version": "1.5.0",
            "box_style": "",
            "layout": "IPY_MODEL_0c8b8825ff9348ac944ef7161b36e382",
            "_model_module": "@jupyter-widgets/controls",
            "children": [
              "IPY_MODEL_8a19d8e49ed74cd3a8e40c4bb28962b6",
              "IPY_MODEL_a4ff3a13c3ea41bda84c3fcec266fea9"
            ]
          }
        },
        "0c8b8825ff9348ac944ef7161b36e382": {
          "model_module": "@jupyter-widgets/base",
          "model_name": "LayoutModel",
          "state": {
            "_view_name": "LayoutView",
            "grid_template_rows": null,
            "right": null,
            "justify_content": null,
            "_view_module": "@jupyter-widgets/base",
            "overflow": null,
            "_model_module_version": "1.2.0",
            "_view_count": null,
            "flex_flow": null,
            "width": null,
            "min_width": null,
            "border": null,
            "align_items": null,
            "bottom": null,
            "_model_module": "@jupyter-widgets/base",
            "top": null,
            "grid_column": null,
            "overflow_y": null,
            "overflow_x": null,
            "grid_auto_flow": null,
            "grid_area": null,
            "grid_template_columns": null,
            "flex": null,
            "_model_name": "LayoutModel",
            "justify_items": null,
            "grid_row": null,
            "max_height": null,
            "align_content": null,
            "visibility": null,
            "align_self": null,
            "height": null,
            "min_height": null,
            "padding": null,
            "grid_auto_rows": null,
            "grid_gap": null,
            "max_width": null,
            "order": null,
            "_view_module_version": "1.2.0",
            "grid_template_areas": null,
            "object_position": null,
            "object_fit": null,
            "grid_auto_columns": null,
            "margin": null,
            "display": null,
            "left": null
          }
        },
        "8a19d8e49ed74cd3a8e40c4bb28962b6": {
          "model_module": "@jupyter-widgets/controls",
          "model_name": "FloatProgressModel",
          "state": {
            "_view_name": "ProgressView",
            "style": "IPY_MODEL_df59f552babc44b9857307f856927f22",
            "_dom_classes": [],
            "description": "Dl Size...: 100%",
            "_model_name": "FloatProgressModel",
            "bar_style": "success",
            "max": 1,
            "_view_module": "@jupyter-widgets/controls",
            "_model_module_version": "1.5.0",
            "value": 1,
            "_view_count": null,
            "_view_module_version": "1.5.0",
            "orientation": "horizontal",
            "min": 0,
            "description_tooltip": null,
            "_model_module": "@jupyter-widgets/controls",
            "layout": "IPY_MODEL_d7354a144038474d89feb806af8072ed"
          }
        },
        "a4ff3a13c3ea41bda84c3fcec266fea9": {
          "model_module": "@jupyter-widgets/controls",
          "model_name": "HTMLModel",
          "state": {
            "_view_name": "HTMLView",
            "style": "IPY_MODEL_1c362e1e8b9b40a7a2b0f734a8d2e2c1",
            "_dom_classes": [],
            "description": "",
            "_model_name": "HTMLModel",
            "placeholder": "​",
            "_view_module": "@jupyter-widgets/controls",
            "_model_module_version": "1.5.0",
            "value": " 756/756 [00:48&lt;00:00, 15.74 MiB/s]",
            "_view_count": null,
            "_view_module_version": "1.5.0",
            "description_tooltip": null,
            "_model_module": "@jupyter-widgets/controls",
            "layout": "IPY_MODEL_1bd8aca61d994288b9a3e16f652eb63e"
          }
        },
        "df59f552babc44b9857307f856927f22": {
          "model_module": "@jupyter-widgets/controls",
          "model_name": "ProgressStyleModel",
          "state": {
            "_view_name": "StyleView",
            "_model_name": "ProgressStyleModel",
            "description_width": "initial",
            "_view_module": "@jupyter-widgets/base",
            "_model_module_version": "1.5.0",
            "_view_count": null,
            "_view_module_version": "1.2.0",
            "bar_color": null,
            "_model_module": "@jupyter-widgets/controls"
          }
        },
        "d7354a144038474d89feb806af8072ed": {
          "model_module": "@jupyter-widgets/base",
          "model_name": "LayoutModel",
          "state": {
            "_view_name": "LayoutView",
            "grid_template_rows": null,
            "right": null,
            "justify_content": null,
            "_view_module": "@jupyter-widgets/base",
            "overflow": null,
            "_model_module_version": "1.2.0",
            "_view_count": null,
            "flex_flow": null,
            "width": null,
            "min_width": null,
            "border": null,
            "align_items": null,
            "bottom": null,
            "_model_module": "@jupyter-widgets/base",
            "top": null,
            "grid_column": null,
            "overflow_y": null,
            "overflow_x": null,
            "grid_auto_flow": null,
            "grid_area": null,
            "grid_template_columns": null,
            "flex": null,
            "_model_name": "LayoutModel",
            "justify_items": null,
            "grid_row": null,
            "max_height": null,
            "align_content": null,
            "visibility": null,
            "align_self": null,
            "height": null,
            "min_height": null,
            "padding": null,
            "grid_auto_rows": null,
            "grid_gap": null,
            "max_width": null,
            "order": null,
            "_view_module_version": "1.2.0",
            "grid_template_areas": null,
            "object_position": null,
            "object_fit": null,
            "grid_auto_columns": null,
            "margin": null,
            "display": null,
            "left": null
          }
        },
        "1c362e1e8b9b40a7a2b0f734a8d2e2c1": {
          "model_module": "@jupyter-widgets/controls",
          "model_name": "DescriptionStyleModel",
          "state": {
            "_view_name": "StyleView",
            "_model_name": "DescriptionStyleModel",
            "description_width": "",
            "_view_module": "@jupyter-widgets/base",
            "_model_module_version": "1.5.0",
            "_view_count": null,
            "_view_module_version": "1.2.0",
            "_model_module": "@jupyter-widgets/controls"
          }
        },
        "1bd8aca61d994288b9a3e16f652eb63e": {
          "model_module": "@jupyter-widgets/base",
          "model_name": "LayoutModel",
          "state": {
            "_view_name": "LayoutView",
            "grid_template_rows": null,
            "right": null,
            "justify_content": null,
            "_view_module": "@jupyter-widgets/base",
            "overflow": null,
            "_model_module_version": "1.2.0",
            "_view_count": null,
            "flex_flow": null,
            "width": null,
            "min_width": null,
            "border": null,
            "align_items": null,
            "bottom": null,
            "_model_module": "@jupyter-widgets/base",
            "top": null,
            "grid_column": null,
            "overflow_y": null,
            "overflow_x": null,
            "grid_auto_flow": null,
            "grid_area": null,
            "grid_template_columns": null,
            "flex": null,
            "_model_name": "LayoutModel",
            "justify_items": null,
            "grid_row": null,
            "max_height": null,
            "align_content": null,
            "visibility": null,
            "align_self": null,
            "height": null,
            "min_height": null,
            "padding": null,
            "grid_auto_rows": null,
            "grid_gap": null,
            "max_width": null,
            "order": null,
            "_view_module_version": "1.2.0",
            "grid_template_areas": null,
            "object_position": null,
            "object_fit": null,
            "grid_auto_columns": null,
            "margin": null,
            "display": null,
            "left": null
          }
        },
        "7b01493ddd2442a08a0815884e130cb0": {
          "model_module": "@jupyter-widgets/controls",
          "model_name": "HBoxModel",
          "state": {
            "_view_name": "HBoxView",
            "_dom_classes": [],
            "_model_name": "HBoxModel",
            "_view_module": "@jupyter-widgets/controls",
            "_model_module_version": "1.5.0",
            "_view_count": null,
            "_view_module_version": "1.5.0",
            "box_style": "",
            "layout": "IPY_MODEL_717c60e07bc848428511a318420d0e8f",
            "_model_module": "@jupyter-widgets/controls",
            "children": [
              "IPY_MODEL_b78e6187071f4adf814bb4527eddabe0",
              "IPY_MODEL_dbb73bfac4e0403a8bebdd7781d04a02"
            ]
          }
        },
        "717c60e07bc848428511a318420d0e8f": {
          "model_module": "@jupyter-widgets/base",
          "model_name": "LayoutModel",
          "state": {
            "_view_name": "LayoutView",
            "grid_template_rows": null,
            "right": null,
            "justify_content": null,
            "_view_module": "@jupyter-widgets/base",
            "overflow": null,
            "_model_module_version": "1.2.0",
            "_view_count": null,
            "flex_flow": null,
            "width": null,
            "min_width": null,
            "border": null,
            "align_items": null,
            "bottom": null,
            "_model_module": "@jupyter-widgets/base",
            "top": null,
            "grid_column": null,
            "overflow_y": null,
            "overflow_x": null,
            "grid_auto_flow": null,
            "grid_area": null,
            "grid_template_columns": null,
            "flex": null,
            "_model_name": "LayoutModel",
            "justify_items": null,
            "grid_row": null,
            "max_height": null,
            "align_content": null,
            "visibility": null,
            "align_self": null,
            "height": null,
            "min_height": null,
            "padding": null,
            "grid_auto_rows": null,
            "grid_gap": null,
            "max_width": null,
            "order": null,
            "_view_module_version": "1.2.0",
            "grid_template_areas": null,
            "object_position": null,
            "object_fit": null,
            "grid_auto_columns": null,
            "margin": null,
            "display": null,
            "left": null
          }
        },
        "b78e6187071f4adf814bb4527eddabe0": {
          "model_module": "@jupyter-widgets/controls",
          "model_name": "FloatProgressModel",
          "state": {
            "_view_name": "ProgressView",
            "style": "IPY_MODEL_5ffe5318f1e24ff1ac4c11a81b6b792e",
            "_dom_classes": [],
            "description": "Dl Completed...: 100%",
            "_model_name": "FloatProgressModel",
            "bar_style": "success",
            "max": 1,
            "_view_module": "@jupyter-widgets/controls",
            "_model_module_version": "1.5.0",
            "value": 1,
            "_view_count": null,
            "_view_module_version": "1.5.0",
            "orientation": "horizontal",
            "min": 0,
            "description_tooltip": null,
            "_model_module": "@jupyter-widgets/controls",
            "layout": "IPY_MODEL_753056fcd7f44b3599171b570f6fae49"
          }
        },
        "dbb73bfac4e0403a8bebdd7781d04a02": {
          "model_module": "@jupyter-widgets/controls",
          "model_name": "HTMLModel",
          "state": {
            "_view_name": "HTMLView",
            "style": "IPY_MODEL_0b13df62ff054cca918cc6ed78afec92",
            "_dom_classes": [],
            "description": "",
            "_model_name": "HTMLModel",
            "placeholder": "​",
            "_view_module": "@jupyter-widgets/controls",
            "_model_module_version": "1.5.0",
            "value": " 2/2 [00:42&lt;00:00, 21.21s/ url]",
            "_view_count": null,
            "_view_module_version": "1.5.0",
            "description_tooltip": null,
            "_model_module": "@jupyter-widgets/controls",
            "layout": "IPY_MODEL_64f5f258bbb045a8ae2d43a05f8e5a9e"
          }
        },
        "5ffe5318f1e24ff1ac4c11a81b6b792e": {
          "model_module": "@jupyter-widgets/controls",
          "model_name": "ProgressStyleModel",
          "state": {
            "_view_name": "StyleView",
            "_model_name": "ProgressStyleModel",
            "description_width": "initial",
            "_view_module": "@jupyter-widgets/base",
            "_model_module_version": "1.5.0",
            "_view_count": null,
            "_view_module_version": "1.2.0",
            "bar_color": null,
            "_model_module": "@jupyter-widgets/controls"
          }
        },
        "753056fcd7f44b3599171b570f6fae49": {
          "model_module": "@jupyter-widgets/base",
          "model_name": "LayoutModel",
          "state": {
            "_view_name": "LayoutView",
            "grid_template_rows": null,
            "right": null,
            "justify_content": null,
            "_view_module": "@jupyter-widgets/base",
            "overflow": null,
            "_model_module_version": "1.2.0",
            "_view_count": null,
            "flex_flow": null,
            "width": null,
            "min_width": null,
            "border": null,
            "align_items": null,
            "bottom": null,
            "_model_module": "@jupyter-widgets/base",
            "top": null,
            "grid_column": null,
            "overflow_y": null,
            "overflow_x": null,
            "grid_auto_flow": null,
            "grid_area": null,
            "grid_template_columns": null,
            "flex": null,
            "_model_name": "LayoutModel",
            "justify_items": null,
            "grid_row": null,
            "max_height": null,
            "align_content": null,
            "visibility": null,
            "align_self": null,
            "height": null,
            "min_height": null,
            "padding": null,
            "grid_auto_rows": null,
            "grid_gap": null,
            "max_width": null,
            "order": null,
            "_view_module_version": "1.2.0",
            "grid_template_areas": null,
            "object_position": null,
            "object_fit": null,
            "grid_auto_columns": null,
            "margin": null,
            "display": null,
            "left": null
          }
        },
        "0b13df62ff054cca918cc6ed78afec92": {
          "model_module": "@jupyter-widgets/controls",
          "model_name": "DescriptionStyleModel",
          "state": {
            "_view_name": "StyleView",
            "_model_name": "DescriptionStyleModel",
            "description_width": "",
            "_view_module": "@jupyter-widgets/base",
            "_model_module_version": "1.5.0",
            "_view_count": null,
            "_view_module_version": "1.2.0",
            "_model_module": "@jupyter-widgets/controls"
          }
        },
        "64f5f258bbb045a8ae2d43a05f8e5a9e": {
          "model_module": "@jupyter-widgets/base",
          "model_name": "LayoutModel",
          "state": {
            "_view_name": "LayoutView",
            "grid_template_rows": null,
            "right": null,
            "justify_content": null,
            "_view_module": "@jupyter-widgets/base",
            "overflow": null,
            "_model_module_version": "1.2.0",
            "_view_count": null,
            "flex_flow": null,
            "width": null,
            "min_width": null,
            "border": null,
            "align_items": null,
            "bottom": null,
            "_model_module": "@jupyter-widgets/base",
            "top": null,
            "grid_column": null,
            "overflow_y": null,
            "overflow_x": null,
            "grid_auto_flow": null,
            "grid_area": null,
            "grid_template_columns": null,
            "flex": null,
            "_model_name": "LayoutModel",
            "justify_items": null,
            "grid_row": null,
            "max_height": null,
            "align_content": null,
            "visibility": null,
            "align_self": null,
            "height": null,
            "min_height": null,
            "padding": null,
            "grid_auto_rows": null,
            "grid_gap": null,
            "max_width": null,
            "order": null,
            "_view_module_version": "1.2.0",
            "grid_template_areas": null,
            "object_position": null,
            "object_fit": null,
            "grid_auto_columns": null,
            "margin": null,
            "display": null,
            "left": null
          }
        },
        "74b85fde5f43499b983841923b6817d0": {
          "model_module": "@jupyter-widgets/controls",
          "model_name": "HBoxModel",
          "state": {
            "_view_name": "HBoxView",
            "_dom_classes": [],
            "_model_name": "HBoxModel",
            "_view_module": "@jupyter-widgets/controls",
            "_model_module_version": "1.5.0",
            "_view_count": null,
            "_view_module_version": "1.5.0",
            "box_style": "",
            "layout": "IPY_MODEL_795a4ad9cb4c4edd8f84462adb0d931c",
            "_model_module": "@jupyter-widgets/controls",
            "children": [
              "IPY_MODEL_9767d242ebc141d2abb2f6c60afbf7a3",
              "IPY_MODEL_49892868ad7f40cd8b94abd7a2bb7223"
            ]
          }
        },
        "795a4ad9cb4c4edd8f84462adb0d931c": {
          "model_module": "@jupyter-widgets/base",
          "model_name": "LayoutModel",
          "state": {
            "_view_name": "LayoutView",
            "grid_template_rows": null,
            "right": null,
            "justify_content": null,
            "_view_module": "@jupyter-widgets/base",
            "overflow": null,
            "_model_module_version": "1.2.0",
            "_view_count": null,
            "flex_flow": null,
            "width": null,
            "min_width": null,
            "border": null,
            "align_items": null,
            "bottom": null,
            "_model_module": "@jupyter-widgets/base",
            "top": null,
            "grid_column": null,
            "overflow_y": null,
            "overflow_x": null,
            "grid_auto_flow": null,
            "grid_area": null,
            "grid_template_columns": null,
            "flex": null,
            "_model_name": "LayoutModel",
            "justify_items": null,
            "grid_row": null,
            "max_height": null,
            "align_content": null,
            "visibility": null,
            "align_self": null,
            "height": null,
            "min_height": null,
            "padding": null,
            "grid_auto_rows": null,
            "grid_gap": null,
            "max_width": null,
            "order": null,
            "_view_module_version": "1.2.0",
            "grid_template_areas": null,
            "object_position": null,
            "object_fit": null,
            "grid_auto_columns": null,
            "margin": null,
            "display": null,
            "left": null
          }
        },
        "9767d242ebc141d2abb2f6c60afbf7a3": {
          "model_module": "@jupyter-widgets/controls",
          "model_name": "FloatProgressModel",
          "state": {
            "_view_name": "ProgressView",
            "style": "IPY_MODEL_2cb2a10888234ecbaf86495dc664ee15",
            "_dom_classes": [],
            "description": "Dl Size...: 100%",
            "_model_name": "FloatProgressModel",
            "bar_style": "success",
            "max": 1,
            "_view_module": "@jupyter-widgets/controls",
            "_model_module_version": "1.5.0",
            "value": 1,
            "_view_count": null,
            "_view_module_version": "1.5.0",
            "orientation": "horizontal",
            "min": 0,
            "description_tooltip": null,
            "_model_module": "@jupyter-widgets/controls",
            "layout": "IPY_MODEL_191f9a119b7c4fa2a937dc20c26cde1f"
          }
        },
        "49892868ad7f40cd8b94abd7a2bb7223": {
          "model_module": "@jupyter-widgets/controls",
          "model_name": "HTMLModel",
          "state": {
            "_view_name": "HTMLView",
            "style": "IPY_MODEL_d3a5de359bf1436e99baf1acd41ca36c",
            "_dom_classes": [],
            "description": "",
            "_model_name": "HTMLModel",
            "placeholder": "​",
            "_view_module": "@jupyter-widgets/controls",
            "_model_module_version": "1.5.0",
            "value": " 20/20 [00:42&lt;00:00,  2.12s/ MiB]",
            "_view_count": null,
            "_view_module_version": "1.5.0",
            "description_tooltip": null,
            "_model_module": "@jupyter-widgets/controls",
            "layout": "IPY_MODEL_deed7e5efca24c508494985a53da555e"
          }
        },
        "2cb2a10888234ecbaf86495dc664ee15": {
          "model_module": "@jupyter-widgets/controls",
          "model_name": "ProgressStyleModel",
          "state": {
            "_view_name": "StyleView",
            "_model_name": "ProgressStyleModel",
            "description_width": "initial",
            "_view_module": "@jupyter-widgets/base",
            "_model_module_version": "1.5.0",
            "_view_count": null,
            "_view_module_version": "1.2.0",
            "bar_color": null,
            "_model_module": "@jupyter-widgets/controls"
          }
        },
        "191f9a119b7c4fa2a937dc20c26cde1f": {
          "model_module": "@jupyter-widgets/base",
          "model_name": "LayoutModel",
          "state": {
            "_view_name": "LayoutView",
            "grid_template_rows": null,
            "right": null,
            "justify_content": null,
            "_view_module": "@jupyter-widgets/base",
            "overflow": null,
            "_model_module_version": "1.2.0",
            "_view_count": null,
            "flex_flow": null,
            "width": null,
            "min_width": null,
            "border": null,
            "align_items": null,
            "bottom": null,
            "_model_module": "@jupyter-widgets/base",
            "top": null,
            "grid_column": null,
            "overflow_y": null,
            "overflow_x": null,
            "grid_auto_flow": null,
            "grid_area": null,
            "grid_template_columns": null,
            "flex": null,
            "_model_name": "LayoutModel",
            "justify_items": null,
            "grid_row": null,
            "max_height": null,
            "align_content": null,
            "visibility": null,
            "align_self": null,
            "height": null,
            "min_height": null,
            "padding": null,
            "grid_auto_rows": null,
            "grid_gap": null,
            "max_width": null,
            "order": null,
            "_view_module_version": "1.2.0",
            "grid_template_areas": null,
            "object_position": null,
            "object_fit": null,
            "grid_auto_columns": null,
            "margin": null,
            "display": null,
            "left": null
          }
        },
        "d3a5de359bf1436e99baf1acd41ca36c": {
          "model_module": "@jupyter-widgets/controls",
          "model_name": "DescriptionStyleModel",
          "state": {
            "_view_name": "StyleView",
            "_model_name": "DescriptionStyleModel",
            "description_width": "",
            "_view_module": "@jupyter-widgets/base",
            "_model_module_version": "1.5.0",
            "_view_count": null,
            "_view_module_version": "1.2.0",
            "_model_module": "@jupyter-widgets/controls"
          }
        },
        "deed7e5efca24c508494985a53da555e": {
          "model_module": "@jupyter-widgets/base",
          "model_name": "LayoutModel",
          "state": {
            "_view_name": "LayoutView",
            "grid_template_rows": null,
            "right": null,
            "justify_content": null,
            "_view_module": "@jupyter-widgets/base",
            "overflow": null,
            "_model_module_version": "1.2.0",
            "_view_count": null,
            "flex_flow": null,
            "width": null,
            "min_width": null,
            "border": null,
            "align_items": null,
            "bottom": null,
            "_model_module": "@jupyter-widgets/base",
            "top": null,
            "grid_column": null,
            "overflow_y": null,
            "overflow_x": null,
            "grid_auto_flow": null,
            "grid_area": null,
            "grid_template_columns": null,
            "flex": null,
            "_model_name": "LayoutModel",
            "justify_items": null,
            "grid_row": null,
            "max_height": null,
            "align_content": null,
            "visibility": null,
            "align_self": null,
            "height": null,
            "min_height": null,
            "padding": null,
            "grid_auto_rows": null,
            "grid_gap": null,
            "max_width": null,
            "order": null,
            "_view_module_version": "1.2.0",
            "grid_template_areas": null,
            "object_position": null,
            "object_fit": null,
            "grid_auto_columns": null,
            "margin": null,
            "display": null,
            "left": null
          }
        },
        "b08ea94ffc1c4c248807e9f11f4e32db": {
          "model_module": "@jupyter-widgets/controls",
          "model_name": "HBoxModel",
          "state": {
            "_view_name": "HBoxView",
            "_dom_classes": [],
            "_model_name": "HBoxModel",
            "_view_module": "@jupyter-widgets/controls",
            "_model_module_version": "1.5.0",
            "_view_count": null,
            "_view_module_version": "1.5.0",
            "box_style": "",
            "layout": "IPY_MODEL_9e6b2fddbbd64069b50376707b0e4435",
            "_model_module": "@jupyter-widgets/controls",
            "children": [
              "IPY_MODEL_f0f1e4e788614faf93c280bb28da37fe",
              "IPY_MODEL_59ded9b36a274e449d04fa0d27e4032f"
            ]
          }
        },
        "9e6b2fddbbd64069b50376707b0e4435": {
          "model_module": "@jupyter-widgets/base",
          "model_name": "LayoutModel",
          "state": {
            "_view_name": "LayoutView",
            "grid_template_rows": null,
            "right": null,
            "justify_content": null,
            "_view_module": "@jupyter-widgets/base",
            "overflow": null,
            "_model_module_version": "1.2.0",
            "_view_count": null,
            "flex_flow": null,
            "width": null,
            "min_width": null,
            "border": null,
            "align_items": null,
            "bottom": null,
            "_model_module": "@jupyter-widgets/base",
            "top": null,
            "grid_column": null,
            "overflow_y": null,
            "overflow_x": null,
            "grid_auto_flow": null,
            "grid_area": null,
            "grid_template_columns": null,
            "flex": null,
            "_model_name": "LayoutModel",
            "justify_items": null,
            "grid_row": null,
            "max_height": null,
            "align_content": null,
            "visibility": null,
            "align_self": null,
            "height": null,
            "min_height": null,
            "padding": null,
            "grid_auto_rows": null,
            "grid_gap": null,
            "max_width": null,
            "order": null,
            "_view_module_version": "1.2.0",
            "grid_template_areas": null,
            "object_position": null,
            "object_fit": null,
            "grid_auto_columns": null,
            "margin": null,
            "display": null,
            "left": null
          }
        },
        "f0f1e4e788614faf93c280bb28da37fe": {
          "model_module": "@jupyter-widgets/controls",
          "model_name": "FloatProgressModel",
          "state": {
            "_view_name": "ProgressView",
            "style": "IPY_MODEL_3510a5191aee4aab912938cb2a1f8f3f",
            "_dom_classes": [],
            "description": "Extraction completed...: 100%",
            "_model_name": "FloatProgressModel",
            "bar_style": "success",
            "max": 1,
            "_view_module": "@jupyter-widgets/controls",
            "_model_module_version": "1.5.0",
            "value": 1,
            "_view_count": null,
            "_view_module_version": "1.5.0",
            "orientation": "horizontal",
            "min": 0,
            "description_tooltip": null,
            "_model_module": "@jupyter-widgets/controls",
            "layout": "IPY_MODEL_8ce967e375a248eb89cdd970fd6ae129"
          }
        },
        "59ded9b36a274e449d04fa0d27e4032f": {
          "model_module": "@jupyter-widgets/controls",
          "model_name": "HTMLModel",
          "state": {
            "_view_name": "HTMLView",
            "style": "IPY_MODEL_f4ce91707242458f976728070e1fbe20",
            "_dom_classes": [],
            "description": "",
            "_model_name": "HTMLModel",
            "placeholder": "​",
            "_view_module": "@jupyter-widgets/controls",
            "_model_module_version": "1.5.0",
            "value": " 2/2 [00:42&lt;00:00, 21.18s/ file]",
            "_view_count": null,
            "_view_module_version": "1.5.0",
            "description_tooltip": null,
            "_model_module": "@jupyter-widgets/controls",
            "layout": "IPY_MODEL_b8df776d6d274e8f895232316c33d8ff"
          }
        },
        "3510a5191aee4aab912938cb2a1f8f3f": {
          "model_module": "@jupyter-widgets/controls",
          "model_name": "ProgressStyleModel",
          "state": {
            "_view_name": "StyleView",
            "_model_name": "ProgressStyleModel",
            "description_width": "initial",
            "_view_module": "@jupyter-widgets/base",
            "_model_module_version": "1.5.0",
            "_view_count": null,
            "_view_module_version": "1.2.0",
            "bar_color": null,
            "_model_module": "@jupyter-widgets/controls"
          }
        },
        "8ce967e375a248eb89cdd970fd6ae129": {
          "model_module": "@jupyter-widgets/base",
          "model_name": "LayoutModel",
          "state": {
            "_view_name": "LayoutView",
            "grid_template_rows": null,
            "right": null,
            "justify_content": null,
            "_view_module": "@jupyter-widgets/base",
            "overflow": null,
            "_model_module_version": "1.2.0",
            "_view_count": null,
            "flex_flow": null,
            "width": null,
            "min_width": null,
            "border": null,
            "align_items": null,
            "bottom": null,
            "_model_module": "@jupyter-widgets/base",
            "top": null,
            "grid_column": null,
            "overflow_y": null,
            "overflow_x": null,
            "grid_auto_flow": null,
            "grid_area": null,
            "grid_template_columns": null,
            "flex": null,
            "_model_name": "LayoutModel",
            "justify_items": null,
            "grid_row": null,
            "max_height": null,
            "align_content": null,
            "visibility": null,
            "align_self": null,
            "height": null,
            "min_height": null,
            "padding": null,
            "grid_auto_rows": null,
            "grid_gap": null,
            "max_width": null,
            "order": null,
            "_view_module_version": "1.2.0",
            "grid_template_areas": null,
            "object_position": null,
            "object_fit": null,
            "grid_auto_columns": null,
            "margin": null,
            "display": null,
            "left": null
          }
        },
        "f4ce91707242458f976728070e1fbe20": {
          "model_module": "@jupyter-widgets/controls",
          "model_name": "DescriptionStyleModel",
          "state": {
            "_view_name": "StyleView",
            "_model_name": "DescriptionStyleModel",
            "description_width": "",
            "_view_module": "@jupyter-widgets/base",
            "_model_module_version": "1.5.0",
            "_view_count": null,
            "_view_module_version": "1.2.0",
            "_model_module": "@jupyter-widgets/controls"
          }
        },
        "b8df776d6d274e8f895232316c33d8ff": {
          "model_module": "@jupyter-widgets/base",
          "model_name": "LayoutModel",
          "state": {
            "_view_name": "LayoutView",
            "grid_template_rows": null,
            "right": null,
            "justify_content": null,
            "_view_module": "@jupyter-widgets/base",
            "overflow": null,
            "_model_module_version": "1.2.0",
            "_view_count": null,
            "flex_flow": null,
            "width": null,
            "min_width": null,
            "border": null,
            "align_items": null,
            "bottom": null,
            "_model_module": "@jupyter-widgets/base",
            "top": null,
            "grid_column": null,
            "overflow_y": null,
            "overflow_x": null,
            "grid_auto_flow": null,
            "grid_area": null,
            "grid_template_columns": null,
            "flex": null,
            "_model_name": "LayoutModel",
            "justify_items": null,
            "grid_row": null,
            "max_height": null,
            "align_content": null,
            "visibility": null,
            "align_self": null,
            "height": null,
            "min_height": null,
            "padding": null,
            "grid_auto_rows": null,
            "grid_gap": null,
            "max_width": null,
            "order": null,
            "_view_module_version": "1.2.0",
            "grid_template_areas": null,
            "object_position": null,
            "object_fit": null,
            "grid_auto_columns": null,
            "margin": null,
            "display": null,
            "left": null
          }
        },
        "534fb15ca06445a9986b20822aed1765": {
          "model_module": "@jupyter-widgets/controls",
          "model_name": "HBoxModel",
          "state": {
            "_view_name": "HBoxView",
            "_dom_classes": [],
            "_model_name": "HBoxModel",
            "_view_module": "@jupyter-widgets/controls",
            "_model_module_version": "1.5.0",
            "_view_count": null,
            "_view_module_version": "1.5.0",
            "box_style": "",
            "layout": "IPY_MODEL_1946cbb84ff749d7b67b6cc888d0661e",
            "_model_module": "@jupyter-widgets/controls",
            "children": [
              "IPY_MODEL_bc4473266d1249388d53088083f3de15",
              "IPY_MODEL_c8dd3fb3c4b74398ba880b302ccd34aa"
            ]
          }
        },
        "1946cbb84ff749d7b67b6cc888d0661e": {
          "model_module": "@jupyter-widgets/base",
          "model_name": "LayoutModel",
          "state": {
            "_view_name": "LayoutView",
            "grid_template_rows": null,
            "right": null,
            "justify_content": null,
            "_view_module": "@jupyter-widgets/base",
            "overflow": null,
            "_model_module_version": "1.2.0",
            "_view_count": null,
            "flex_flow": null,
            "width": null,
            "min_width": null,
            "border": null,
            "align_items": null,
            "bottom": null,
            "_model_module": "@jupyter-widgets/base",
            "top": null,
            "grid_column": null,
            "overflow_y": null,
            "overflow_x": null,
            "grid_auto_flow": null,
            "grid_area": null,
            "grid_template_columns": null,
            "flex": null,
            "_model_name": "LayoutModel",
            "justify_items": null,
            "grid_row": null,
            "max_height": null,
            "align_content": null,
            "visibility": null,
            "align_self": null,
            "height": null,
            "min_height": null,
            "padding": null,
            "grid_auto_rows": null,
            "grid_gap": null,
            "max_width": null,
            "order": null,
            "_view_module_version": "1.2.0",
            "grid_template_areas": null,
            "object_position": null,
            "object_fit": null,
            "grid_auto_columns": null,
            "margin": null,
            "display": null,
            "left": null
          }
        },
        "bc4473266d1249388d53088083f3de15": {
          "model_module": "@jupyter-widgets/controls",
          "model_name": "FloatProgressModel",
          "state": {
            "_view_name": "ProgressView",
            "style": "IPY_MODEL_71fa51f9ea7842b9b3b58e132854c22c",
            "_dom_classes": [],
            "description": "",
            "_model_name": "FloatProgressModel",
            "bar_style": "info",
            "max": 1,
            "_view_module": "@jupyter-widgets/controls",
            "_model_module_version": "1.5.0",
            "value": 1,
            "_view_count": null,
            "_view_module_version": "1.5.0",
            "orientation": "horizontal",
            "min": 0,
            "description_tooltip": null,
            "_model_module": "@jupyter-widgets/controls",
            "layout": "IPY_MODEL_aeced25e266a40499978926ced5a49e8"
          }
        },
        "c8dd3fb3c4b74398ba880b302ccd34aa": {
          "model_module": "@jupyter-widgets/controls",
          "model_name": "HTMLModel",
          "state": {
            "_view_name": "HTMLView",
            "style": "IPY_MODEL_4dfcfd744df24018bed7b8c44e5e78ec",
            "_dom_classes": [],
            "description": "",
            "_model_name": "HTMLModel",
            "placeholder": "​",
            "_view_module": "@jupyter-widgets/controls",
            "_model_module_version": "1.5.0",
            "value": " 12000/0 [00:11&lt;00:00, 995.04 examples/s]",
            "_view_count": null,
            "_view_module_version": "1.5.0",
            "description_tooltip": null,
            "_model_module": "@jupyter-widgets/controls",
            "layout": "IPY_MODEL_5f0cf6cffad4481dac05e619fd64967f"
          }
        },
        "71fa51f9ea7842b9b3b58e132854c22c": {
          "model_module": "@jupyter-widgets/controls",
          "model_name": "ProgressStyleModel",
          "state": {
            "_view_name": "StyleView",
            "_model_name": "ProgressStyleModel",
            "description_width": "initial",
            "_view_module": "@jupyter-widgets/base",
            "_model_module_version": "1.5.0",
            "_view_count": null,
            "_view_module_version": "1.2.0",
            "bar_color": null,
            "_model_module": "@jupyter-widgets/controls"
          }
        },
        "aeced25e266a40499978926ced5a49e8": {
          "model_module": "@jupyter-widgets/base",
          "model_name": "LayoutModel",
          "state": {
            "_view_name": "LayoutView",
            "grid_template_rows": null,
            "right": null,
            "justify_content": null,
            "_view_module": "@jupyter-widgets/base",
            "overflow": null,
            "_model_module_version": "1.2.0",
            "_view_count": null,
            "flex_flow": null,
            "width": null,
            "min_width": null,
            "border": null,
            "align_items": null,
            "bottom": null,
            "_model_module": "@jupyter-widgets/base",
            "top": null,
            "grid_column": null,
            "overflow_y": null,
            "overflow_x": null,
            "grid_auto_flow": null,
            "grid_area": null,
            "grid_template_columns": null,
            "flex": null,
            "_model_name": "LayoutModel",
            "justify_items": null,
            "grid_row": null,
            "max_height": null,
            "align_content": null,
            "visibility": null,
            "align_self": null,
            "height": null,
            "min_height": null,
            "padding": null,
            "grid_auto_rows": null,
            "grid_gap": null,
            "max_width": null,
            "order": null,
            "_view_module_version": "1.2.0",
            "grid_template_areas": null,
            "object_position": null,
            "object_fit": null,
            "grid_auto_columns": null,
            "margin": null,
            "display": null,
            "left": null
          }
        },
        "4dfcfd744df24018bed7b8c44e5e78ec": {
          "model_module": "@jupyter-widgets/controls",
          "model_name": "DescriptionStyleModel",
          "state": {
            "_view_name": "StyleView",
            "_model_name": "DescriptionStyleModel",
            "description_width": "",
            "_view_module": "@jupyter-widgets/base",
            "_model_module_version": "1.5.0",
            "_view_count": null,
            "_view_module_version": "1.2.0",
            "_model_module": "@jupyter-widgets/controls"
          }
        },
        "5f0cf6cffad4481dac05e619fd64967f": {
          "model_module": "@jupyter-widgets/base",
          "model_name": "LayoutModel",
          "state": {
            "_view_name": "LayoutView",
            "grid_template_rows": null,
            "right": null,
            "justify_content": null,
            "_view_module": "@jupyter-widgets/base",
            "overflow": null,
            "_model_module_version": "1.2.0",
            "_view_count": null,
            "flex_flow": null,
            "width": null,
            "min_width": null,
            "border": null,
            "align_items": null,
            "bottom": null,
            "_model_module": "@jupyter-widgets/base",
            "top": null,
            "grid_column": null,
            "overflow_y": null,
            "overflow_x": null,
            "grid_auto_flow": null,
            "grid_area": null,
            "grid_template_columns": null,
            "flex": null,
            "_model_name": "LayoutModel",
            "justify_items": null,
            "grid_row": null,
            "max_height": null,
            "align_content": null,
            "visibility": null,
            "align_self": null,
            "height": null,
            "min_height": null,
            "padding": null,
            "grid_auto_rows": null,
            "grid_gap": null,
            "max_width": null,
            "order": null,
            "_view_module_version": "1.2.0",
            "grid_template_areas": null,
            "object_position": null,
            "object_fit": null,
            "grid_auto_columns": null,
            "margin": null,
            "display": null,
            "left": null
          }
        },
        "22ff3045797c4403a9120060519fb44b": {
          "model_module": "@jupyter-widgets/controls",
          "model_name": "HBoxModel",
          "state": {
            "_view_name": "HBoxView",
            "_dom_classes": [],
            "_model_name": "HBoxModel",
            "_view_module": "@jupyter-widgets/controls",
            "_model_module_version": "1.5.0",
            "_view_count": null,
            "_view_module_version": "1.5.0",
            "box_style": "",
            "layout": "IPY_MODEL_3129a8c9679148398afd55ccac98009c",
            "_model_module": "@jupyter-widgets/controls",
            "children": [
              "IPY_MODEL_129787beb8c44a9bae0b361fa214c579",
              "IPY_MODEL_a6d8111b523e4937a81a0f934f662dc1"
            ]
          }
        },
        "3129a8c9679148398afd55ccac98009c": {
          "model_module": "@jupyter-widgets/base",
          "model_name": "LayoutModel",
          "state": {
            "_view_name": "LayoutView",
            "grid_template_rows": null,
            "right": null,
            "justify_content": null,
            "_view_module": "@jupyter-widgets/base",
            "overflow": null,
            "_model_module_version": "1.2.0",
            "_view_count": null,
            "flex_flow": null,
            "width": null,
            "min_width": null,
            "border": null,
            "align_items": null,
            "bottom": null,
            "_model_module": "@jupyter-widgets/base",
            "top": null,
            "grid_column": null,
            "overflow_y": null,
            "overflow_x": null,
            "grid_auto_flow": null,
            "grid_area": null,
            "grid_template_columns": null,
            "flex": null,
            "_model_name": "LayoutModel",
            "justify_items": null,
            "grid_row": null,
            "max_height": null,
            "align_content": null,
            "visibility": null,
            "align_self": null,
            "height": null,
            "min_height": null,
            "padding": null,
            "grid_auto_rows": null,
            "grid_gap": null,
            "max_width": null,
            "order": null,
            "_view_module_version": "1.2.0",
            "grid_template_areas": null,
            "object_position": null,
            "object_fit": null,
            "grid_auto_columns": null,
            "margin": null,
            "display": null,
            "left": null
          }
        },
        "129787beb8c44a9bae0b361fa214c579": {
          "model_module": "@jupyter-widgets/controls",
          "model_name": "FloatProgressModel",
          "state": {
            "_view_name": "ProgressView",
            "style": "IPY_MODEL_41d303f923194028a7b0036194ef7a39",
            "_dom_classes": [],
            "description": " 96%",
            "_model_name": "FloatProgressModel",
            "bar_style": "danger",
            "max": 12000,
            "_view_module": "@jupyter-widgets/controls",
            "_model_module_version": "1.5.0",
            "value": 11520,
            "_view_count": null,
            "_view_module_version": "1.5.0",
            "orientation": "horizontal",
            "min": 0,
            "description_tooltip": null,
            "_model_module": "@jupyter-widgets/controls",
            "layout": "IPY_MODEL_e9bc36da5095469281a756fb7c7b0e65"
          }
        },
        "a6d8111b523e4937a81a0f934f662dc1": {
          "model_module": "@jupyter-widgets/controls",
          "model_name": "HTMLModel",
          "state": {
            "_view_name": "HTMLView",
            "style": "IPY_MODEL_407ff6f37eec40e4a35196e02df8d109",
            "_dom_classes": [],
            "description": "",
            "_model_name": "HTMLModel",
            "placeholder": "​",
            "_view_module": "@jupyter-widgets/controls",
            "_model_module_version": "1.5.0",
            "value": " 11520/12000 [00:00&lt;00:00, 18330.13 examples/s]",
            "_view_count": null,
            "_view_module_version": "1.5.0",
            "description_tooltip": null,
            "_model_module": "@jupyter-widgets/controls",
            "layout": "IPY_MODEL_26339d324bdd4498bfcf7215874ef7a2"
          }
        },
        "41d303f923194028a7b0036194ef7a39": {
          "model_module": "@jupyter-widgets/controls",
          "model_name": "ProgressStyleModel",
          "state": {
            "_view_name": "StyleView",
            "_model_name": "ProgressStyleModel",
            "description_width": "initial",
            "_view_module": "@jupyter-widgets/base",
            "_model_module_version": "1.5.0",
            "_view_count": null,
            "_view_module_version": "1.2.0",
            "bar_color": null,
            "_model_module": "@jupyter-widgets/controls"
          }
        },
        "e9bc36da5095469281a756fb7c7b0e65": {
          "model_module": "@jupyter-widgets/base",
          "model_name": "LayoutModel",
          "state": {
            "_view_name": "LayoutView",
            "grid_template_rows": null,
            "right": null,
            "justify_content": null,
            "_view_module": "@jupyter-widgets/base",
            "overflow": null,
            "_model_module_version": "1.2.0",
            "_view_count": null,
            "flex_flow": null,
            "width": null,
            "min_width": null,
            "border": null,
            "align_items": null,
            "bottom": null,
            "_model_module": "@jupyter-widgets/base",
            "top": null,
            "grid_column": null,
            "overflow_y": null,
            "overflow_x": null,
            "grid_auto_flow": null,
            "grid_area": null,
            "grid_template_columns": null,
            "flex": null,
            "_model_name": "LayoutModel",
            "justify_items": null,
            "grid_row": null,
            "max_height": null,
            "align_content": null,
            "visibility": null,
            "align_self": null,
            "height": null,
            "min_height": null,
            "padding": null,
            "grid_auto_rows": null,
            "grid_gap": null,
            "max_width": null,
            "order": null,
            "_view_module_version": "1.2.0",
            "grid_template_areas": null,
            "object_position": null,
            "object_fit": null,
            "grid_auto_columns": null,
            "margin": null,
            "display": null,
            "left": null
          }
        },
        "407ff6f37eec40e4a35196e02df8d109": {
          "model_module": "@jupyter-widgets/controls",
          "model_name": "DescriptionStyleModel",
          "state": {
            "_view_name": "StyleView",
            "_model_name": "DescriptionStyleModel",
            "description_width": "",
            "_view_module": "@jupyter-widgets/base",
            "_model_module_version": "1.5.0",
            "_view_count": null,
            "_view_module_version": "1.2.0",
            "_model_module": "@jupyter-widgets/controls"
          }
        },
        "26339d324bdd4498bfcf7215874ef7a2": {
          "model_module": "@jupyter-widgets/base",
          "model_name": "LayoutModel",
          "state": {
            "_view_name": "LayoutView",
            "grid_template_rows": null,
            "right": null,
            "justify_content": null,
            "_view_module": "@jupyter-widgets/base",
            "overflow": null,
            "_model_module_version": "1.2.0",
            "_view_count": null,
            "flex_flow": null,
            "width": null,
            "min_width": null,
            "border": null,
            "align_items": null,
            "bottom": null,
            "_model_module": "@jupyter-widgets/base",
            "top": null,
            "grid_column": null,
            "overflow_y": null,
            "overflow_x": null,
            "grid_auto_flow": null,
            "grid_area": null,
            "grid_template_columns": null,
            "flex": null,
            "_model_name": "LayoutModel",
            "justify_items": null,
            "grid_row": null,
            "max_height": null,
            "align_content": null,
            "visibility": null,
            "align_self": null,
            "height": null,
            "min_height": null,
            "padding": null,
            "grid_auto_rows": null,
            "grid_gap": null,
            "max_width": null,
            "order": null,
            "_view_module_version": "1.2.0",
            "grid_template_areas": null,
            "object_position": null,
            "object_fit": null,
            "grid_auto_columns": null,
            "margin": null,
            "display": null,
            "left": null
          }
        },
        "d6224365827d475385e33324624230a7": {
          "model_module": "@jupyter-widgets/controls",
          "model_name": "HBoxModel",
          "state": {
            "_view_name": "HBoxView",
            "_dom_classes": [],
            "_model_name": "HBoxModel",
            "_view_module": "@jupyter-widgets/controls",
            "_model_module_version": "1.5.0",
            "_view_count": null,
            "_view_module_version": "1.5.0",
            "box_style": "",
            "layout": "IPY_MODEL_6139d11db6f147daabb03319626ad6e7",
            "_model_module": "@jupyter-widgets/controls",
            "children": [
              "IPY_MODEL_2a1a22ae46f54752a67bd6c3be068bd3",
              "IPY_MODEL_8ea2473b808c4fc1b99cad68af972871"
            ]
          }
        },
        "6139d11db6f147daabb03319626ad6e7": {
          "model_module": "@jupyter-widgets/base",
          "model_name": "LayoutModel",
          "state": {
            "_view_name": "LayoutView",
            "grid_template_rows": null,
            "right": null,
            "justify_content": null,
            "_view_module": "@jupyter-widgets/base",
            "overflow": null,
            "_model_module_version": "1.2.0",
            "_view_count": null,
            "flex_flow": null,
            "width": null,
            "min_width": null,
            "border": null,
            "align_items": null,
            "bottom": null,
            "_model_module": "@jupyter-widgets/base",
            "top": null,
            "grid_column": null,
            "overflow_y": null,
            "overflow_x": null,
            "grid_auto_flow": null,
            "grid_area": null,
            "grid_template_columns": null,
            "flex": null,
            "_model_name": "LayoutModel",
            "justify_items": null,
            "grid_row": null,
            "max_height": null,
            "align_content": null,
            "visibility": null,
            "align_self": null,
            "height": null,
            "min_height": null,
            "padding": null,
            "grid_auto_rows": null,
            "grid_gap": null,
            "max_width": null,
            "order": null,
            "_view_module_version": "1.2.0",
            "grid_template_areas": null,
            "object_position": null,
            "object_fit": null,
            "grid_auto_columns": null,
            "margin": null,
            "display": null,
            "left": null
          }
        },
        "2a1a22ae46f54752a67bd6c3be068bd3": {
          "model_module": "@jupyter-widgets/controls",
          "model_name": "FloatProgressModel",
          "state": {
            "_view_name": "ProgressView",
            "style": "IPY_MODEL_4dea063b494149b8923f1310d43b0c62",
            "_dom_classes": [],
            "description": "",
            "_model_name": "FloatProgressModel",
            "bar_style": "info",
            "max": 1,
            "_view_module": "@jupyter-widgets/controls",
            "_model_module_version": "1.5.0",
            "value": 1,
            "_view_count": null,
            "_view_module_version": "1.5.0",
            "orientation": "horizontal",
            "min": 0,
            "description_tooltip": null,
            "_model_module": "@jupyter-widgets/controls",
            "layout": "IPY_MODEL_49270dffcec545978059315a23fdb55a"
          }
        },
        "8ea2473b808c4fc1b99cad68af972871": {
          "model_module": "@jupyter-widgets/controls",
          "model_name": "HTMLModel",
          "state": {
            "_view_name": "HTMLView",
            "style": "IPY_MODEL_ef4b84f907c7413faabcb8ce938e4b55",
            "_dom_classes": [],
            "description": "",
            "_model_name": "HTMLModel",
            "placeholder": "​",
            "_view_module": "@jupyter-widgets/controls",
            "_model_module_version": "1.5.0",
            "value": " 8580/0 [00:09&lt;00:00, 843.84 examples/s]",
            "_view_count": null,
            "_view_module_version": "1.5.0",
            "description_tooltip": null,
            "_model_module": "@jupyter-widgets/controls",
            "layout": "IPY_MODEL_122291ed2fbc42d8a271eed6e7116845"
          }
        },
        "4dea063b494149b8923f1310d43b0c62": {
          "model_module": "@jupyter-widgets/controls",
          "model_name": "ProgressStyleModel",
          "state": {
            "_view_name": "StyleView",
            "_model_name": "ProgressStyleModel",
            "description_width": "initial",
            "_view_module": "@jupyter-widgets/base",
            "_model_module_version": "1.5.0",
            "_view_count": null,
            "_view_module_version": "1.2.0",
            "bar_color": null,
            "_model_module": "@jupyter-widgets/controls"
          }
        },
        "49270dffcec545978059315a23fdb55a": {
          "model_module": "@jupyter-widgets/base",
          "model_name": "LayoutModel",
          "state": {
            "_view_name": "LayoutView",
            "grid_template_rows": null,
            "right": null,
            "justify_content": null,
            "_view_module": "@jupyter-widgets/base",
            "overflow": null,
            "_model_module_version": "1.2.0",
            "_view_count": null,
            "flex_flow": null,
            "width": null,
            "min_width": null,
            "border": null,
            "align_items": null,
            "bottom": null,
            "_model_module": "@jupyter-widgets/base",
            "top": null,
            "grid_column": null,
            "overflow_y": null,
            "overflow_x": null,
            "grid_auto_flow": null,
            "grid_area": null,
            "grid_template_columns": null,
            "flex": null,
            "_model_name": "LayoutModel",
            "justify_items": null,
            "grid_row": null,
            "max_height": null,
            "align_content": null,
            "visibility": null,
            "align_self": null,
            "height": null,
            "min_height": null,
            "padding": null,
            "grid_auto_rows": null,
            "grid_gap": null,
            "max_width": null,
            "order": null,
            "_view_module_version": "1.2.0",
            "grid_template_areas": null,
            "object_position": null,
            "object_fit": null,
            "grid_auto_columns": null,
            "margin": null,
            "display": null,
            "left": null
          }
        },
        "ef4b84f907c7413faabcb8ce938e4b55": {
          "model_module": "@jupyter-widgets/controls",
          "model_name": "DescriptionStyleModel",
          "state": {
            "_view_name": "StyleView",
            "_model_name": "DescriptionStyleModel",
            "description_width": "",
            "_view_module": "@jupyter-widgets/base",
            "_model_module_version": "1.5.0",
            "_view_count": null,
            "_view_module_version": "1.2.0",
            "_model_module": "@jupyter-widgets/controls"
          }
        },
        "122291ed2fbc42d8a271eed6e7116845": {
          "model_module": "@jupyter-widgets/base",
          "model_name": "LayoutModel",
          "state": {
            "_view_name": "LayoutView",
            "grid_template_rows": null,
            "right": null,
            "justify_content": null,
            "_view_module": "@jupyter-widgets/base",
            "overflow": null,
            "_model_module_version": "1.2.0",
            "_view_count": null,
            "flex_flow": null,
            "width": null,
            "min_width": null,
            "border": null,
            "align_items": null,
            "bottom": null,
            "_model_module": "@jupyter-widgets/base",
            "top": null,
            "grid_column": null,
            "overflow_y": null,
            "overflow_x": null,
            "grid_auto_flow": null,
            "grid_area": null,
            "grid_template_columns": null,
            "flex": null,
            "_model_name": "LayoutModel",
            "justify_items": null,
            "grid_row": null,
            "max_height": null,
            "align_content": null,
            "visibility": null,
            "align_self": null,
            "height": null,
            "min_height": null,
            "padding": null,
            "grid_auto_rows": null,
            "grid_gap": null,
            "max_width": null,
            "order": null,
            "_view_module_version": "1.2.0",
            "grid_template_areas": null,
            "object_position": null,
            "object_fit": null,
            "grid_auto_columns": null,
            "margin": null,
            "display": null,
            "left": null
          }
        },
        "7131190d24304956b7098c2cf298d710": {
          "model_module": "@jupyter-widgets/controls",
          "model_name": "HBoxModel",
          "state": {
            "_view_name": "HBoxView",
            "_dom_classes": [],
            "_model_name": "HBoxModel",
            "_view_module": "@jupyter-widgets/controls",
            "_model_module_version": "1.5.0",
            "_view_count": null,
            "_view_module_version": "1.5.0",
            "box_style": "",
            "layout": "IPY_MODEL_f0cbb6cf06e44b55a8edba5e1d5fa9ce",
            "_model_module": "@jupyter-widgets/controls",
            "children": [
              "IPY_MODEL_3b1117ee23a446a9b3d077d4dfd5ac89",
              "IPY_MODEL_8922b6aaaf19455d98deda75e0b06fc6"
            ]
          }
        },
        "f0cbb6cf06e44b55a8edba5e1d5fa9ce": {
          "model_module": "@jupyter-widgets/base",
          "model_name": "LayoutModel",
          "state": {
            "_view_name": "LayoutView",
            "grid_template_rows": null,
            "right": null,
            "justify_content": null,
            "_view_module": "@jupyter-widgets/base",
            "overflow": null,
            "_model_module_version": "1.2.0",
            "_view_count": null,
            "flex_flow": null,
            "width": null,
            "min_width": null,
            "border": null,
            "align_items": null,
            "bottom": null,
            "_model_module": "@jupyter-widgets/base",
            "top": null,
            "grid_column": null,
            "overflow_y": null,
            "overflow_x": null,
            "grid_auto_flow": null,
            "grid_area": null,
            "grid_template_columns": null,
            "flex": null,
            "_model_name": "LayoutModel",
            "justify_items": null,
            "grid_row": null,
            "max_height": null,
            "align_content": null,
            "visibility": null,
            "align_self": null,
            "height": null,
            "min_height": null,
            "padding": null,
            "grid_auto_rows": null,
            "grid_gap": null,
            "max_width": null,
            "order": null,
            "_view_module_version": "1.2.0",
            "grid_template_areas": null,
            "object_position": null,
            "object_fit": null,
            "grid_auto_columns": null,
            "margin": null,
            "display": null,
            "left": null
          }
        },
        "3b1117ee23a446a9b3d077d4dfd5ac89": {
          "model_module": "@jupyter-widgets/controls",
          "model_name": "FloatProgressModel",
          "state": {
            "_view_name": "ProgressView",
            "style": "IPY_MODEL_26dfd72e6322410ea396905cfb551770",
            "_dom_classes": [],
            "description": " 91%",
            "_model_name": "FloatProgressModel",
            "bar_style": "danger",
            "max": 8580,
            "_view_module": "@jupyter-widgets/controls",
            "_model_module_version": "1.5.0",
            "value": 7798,
            "_view_count": null,
            "_view_module_version": "1.5.0",
            "orientation": "horizontal",
            "min": 0,
            "description_tooltip": null,
            "_model_module": "@jupyter-widgets/controls",
            "layout": "IPY_MODEL_af05d380641a4a04bf309c18b0f76eb1"
          }
        },
        "8922b6aaaf19455d98deda75e0b06fc6": {
          "model_module": "@jupyter-widgets/controls",
          "model_name": "HTMLModel",
          "state": {
            "_view_name": "HTMLView",
            "style": "IPY_MODEL_cfac6b64ab59449eb964a23e3f60c2c0",
            "_dom_classes": [],
            "description": "",
            "_model_name": "HTMLModel",
            "placeholder": "​",
            "_view_module": "@jupyter-widgets/controls",
            "_model_module_version": "1.5.0",
            "value": " 7798/8580 [00:00&lt;00:00, 24127.93 examples/s]",
            "_view_count": null,
            "_view_module_version": "1.5.0",
            "description_tooltip": null,
            "_model_module": "@jupyter-widgets/controls",
            "layout": "IPY_MODEL_d606ae09c37f4354af9c94678cc42569"
          }
        },
        "26dfd72e6322410ea396905cfb551770": {
          "model_module": "@jupyter-widgets/controls",
          "model_name": "ProgressStyleModel",
          "state": {
            "_view_name": "StyleView",
            "_model_name": "ProgressStyleModel",
            "description_width": "initial",
            "_view_module": "@jupyter-widgets/base",
            "_model_module_version": "1.5.0",
            "_view_count": null,
            "_view_module_version": "1.2.0",
            "bar_color": null,
            "_model_module": "@jupyter-widgets/controls"
          }
        },
        "af05d380641a4a04bf309c18b0f76eb1": {
          "model_module": "@jupyter-widgets/base",
          "model_name": "LayoutModel",
          "state": {
            "_view_name": "LayoutView",
            "grid_template_rows": null,
            "right": null,
            "justify_content": null,
            "_view_module": "@jupyter-widgets/base",
            "overflow": null,
            "_model_module_version": "1.2.0",
            "_view_count": null,
            "flex_flow": null,
            "width": null,
            "min_width": null,
            "border": null,
            "align_items": null,
            "bottom": null,
            "_model_module": "@jupyter-widgets/base",
            "top": null,
            "grid_column": null,
            "overflow_y": null,
            "overflow_x": null,
            "grid_auto_flow": null,
            "grid_area": null,
            "grid_template_columns": null,
            "flex": null,
            "_model_name": "LayoutModel",
            "justify_items": null,
            "grid_row": null,
            "max_height": null,
            "align_content": null,
            "visibility": null,
            "align_self": null,
            "height": null,
            "min_height": null,
            "padding": null,
            "grid_auto_rows": null,
            "grid_gap": null,
            "max_width": null,
            "order": null,
            "_view_module_version": "1.2.0",
            "grid_template_areas": null,
            "object_position": null,
            "object_fit": null,
            "grid_auto_columns": null,
            "margin": null,
            "display": null,
            "left": null
          }
        },
        "cfac6b64ab59449eb964a23e3f60c2c0": {
          "model_module": "@jupyter-widgets/controls",
          "model_name": "DescriptionStyleModel",
          "state": {
            "_view_name": "StyleView",
            "_model_name": "DescriptionStyleModel",
            "description_width": "",
            "_view_module": "@jupyter-widgets/base",
            "_model_module_version": "1.5.0",
            "_view_count": null,
            "_view_module_version": "1.2.0",
            "_model_module": "@jupyter-widgets/controls"
          }
        },
        "d606ae09c37f4354af9c94678cc42569": {
          "model_module": "@jupyter-widgets/base",
          "model_name": "LayoutModel",
          "state": {
            "_view_name": "LayoutView",
            "grid_template_rows": null,
            "right": null,
            "justify_content": null,
            "_view_module": "@jupyter-widgets/base",
            "overflow": null,
            "_model_module_version": "1.2.0",
            "_view_count": null,
            "flex_flow": null,
            "width": null,
            "min_width": null,
            "border": null,
            "align_items": null,
            "bottom": null,
            "_model_module": "@jupyter-widgets/base",
            "top": null,
            "grid_column": null,
            "overflow_y": null,
            "overflow_x": null,
            "grid_auto_flow": null,
            "grid_area": null,
            "grid_template_columns": null,
            "flex": null,
            "_model_name": "LayoutModel",
            "justify_items": null,
            "grid_row": null,
            "max_height": null,
            "align_content": null,
            "visibility": null,
            "align_self": null,
            "height": null,
            "min_height": null,
            "padding": null,
            "grid_auto_rows": null,
            "grid_gap": null,
            "max_width": null,
            "order": null,
            "_view_module_version": "1.2.0",
            "grid_template_areas": null,
            "object_position": null,
            "object_fit": null,
            "grid_auto_columns": null,
            "margin": null,
            "display": null,
            "left": null
          }
        }
      }
    }
  },
  "cells": [
    {
      "cell_type": "markdown",
      "metadata": {
        "id": "GO3NSeJkD40f"
      },
      "source": [
        "# Image classification via fine-tuning with EfficientNet\n",
        "\n",
        "**Author:** [Yixing Fu](https://github.com/yixingfu)<br>\n",
        "**Date created:** 2020/06/30<br>\n",
        "**Last modified:** 2020/07/16<br>\n",
        "**Description:** Use EfficientNet with weights pre-trained on imagenet for Stanford Dogs classification."
      ]
    },
    {
      "cell_type": "markdown",
      "metadata": {
        "id": "vCmaf1d8D40m"
      },
      "source": [
        "## Introduction: what is EfficientNet\n",
        "\n",
        "EfficientNet, first introduced in [Tan and Le, 2019](https://arxiv.org/abs/1905.11946)\n",
        "is among the most efficient models (i.e. requiring least FLOPS for inference)\n",
        "that reaches State-of-the-Art accuracy on both\n",
        "imagenet and common image classification transfer learning tasks.\n",
        "\n",
        "The smallest base model is similar to [MnasNet](https://arxiv.org/abs/1807.11626), which\n",
        "reached near-SOTA with a significantly smaller model. By introducing a heuristic way to\n",
        "scale the model, EfficientNet provides a family of models (B0 to B7) that represents a\n",
        "good combination of efficiency and accuracy on a variety of scales. Such a scaling\n",
        "heuristics (compound-scaling, details see\n",
        "[Tan and Le, 2019](https://arxiv.org/abs/1905.11946)) allows the\n",
        "efficiency-oriented base model (B0) to surpass models at every scale, while avoiding\n",
        "extensive grid-search of hyperparameters.\n",
        "\n",
        "A summary of the latest updates on the model is available at\n",
        "[here](https://github.com/tensorflow/tpu/tree/master/models/official/efficientnet), where various\n",
        "augmentation schemes and semi-supervised learning approaches are applied to further\n",
        "improve the imagenet performance of the models. These extensions of the model can be used\n",
        "by updating weights without changing model architecture.\n",
        "\n",
        "## B0 to B7 variants of EfficientNet\n",
        "\n",
        "*(This section provides some details on \"compound scaling\", and can be skipped\n",
        "if you're only interested in using the models)*\n",
        "\n",
        "Based on the [original paper](https://arxiv.org/abs/1905.11946) people may have the\n",
        "impression that EfficientNet is a continuous family of models created by arbitrarily\n",
        "choosing scaling factor in as Eq.(3) of the paper.  However, choice of resolution,\n",
        "depth and width are also restricted by many factors:\n",
        "\n",
        "- Resolution: Resolutions not divisible by 8, 16, etc. cause zero-padding near boundaries\n",
        "of some layers which wastes computational resources. This especially applies to smaller\n",
        "variants of the model, hence the input resolution for B0 and B1 are chosen as 224 and\n",
        "240.\n",
        "\n",
        "- Depth and width: The building blocks of EfficientNet demands channel size to be\n",
        "multiples of 8.\n",
        "\n",
        "- Resource limit: Memory limitation may bottleneck resolution when depth\n",
        "and width can still increase. In such a situation, increasing depth and/or\n",
        "width but keep resolution can still improve performance.\n",
        "\n",
        "As a result, the depth, width and resolution of each variant of the EfficientNet models\n",
        "are hand-picked and proven to produce good results, though they may be significantly\n",
        "off from the compound scaling formula.\n",
        "Therefore, the keras implementation (detailed below) only provide these 8 models, B0 to B7,\n",
        "instead of allowing arbitray choice of width / depth / resolution parameters.\n",
        "\n",
        "## Keras implementation of EfficientNet\n",
        "\n",
        "An implementation of EfficientNet B0 to B7 has been shipped with tf.keras since TF2.3. To\n",
        "use EfficientNetB0 for classifying 1000 classes of images from imagenet, run:\n",
        "\n",
        "```python\n",
        "from tensorflow.keras.applications import EfficientNetB0\n",
        "model = EfficientNetB0(weights='imagenet')\n",
        "```\n",
        "\n",
        "This model takes input images of shape (224, 224, 3), and the input data should range\n",
        "[0, 255]. Normalization is included as part of the model.\n",
        "\n",
        "Because training EfficientNet on ImageNet takes a tremendous amount of resources and\n",
        "several techniques that are not a part of the model architecture itself. Hence the Keras\n",
        "implementation by default loads pre-trained weights obtained via training with\n",
        "[AutoAugment](https://arxiv.org/abs/1805.09501).\n",
        "\n",
        "For B0 to B7 base models, the input shapes are different. Here is a list of input shape\n",
        "expected for each model:\n",
        "\n",
        "| Base model | resolution|\n",
        "|----------------|-----|\n",
        "| EfficientNetB0 | 224 |\n",
        "| EfficientNetB1 | 240 |\n",
        "| EfficientNetB2 | 260 |\n",
        "| EfficientNetB3 | 300 |\n",
        "| EfficientNetB4 | 380 |\n",
        "| EfficientNetB5 | 456 |\n",
        "| EfficientNetB6 | 528 |\n",
        "| EfficientNetB7 | 600 |\n",
        "\n",
        "When the model is intended for transfer learning, the Keras implementation\n",
        "provides a option to remove the top layers:\n",
        "```\n",
        "model = EfficientNetB0(include_top=False, weights='imagenet')\n",
        "```\n",
        "This option excludes the final `Dense` layer that turns 1280 features on the penultimate\n",
        "layer into prediction of the 1000 ImageNet classes. Replacing the top layer with custom\n",
        "layers allows using EfficientNet as a feature extractor in a transfer learning workflow.\n",
        "\n",
        "Another argument in the model constructor worth noticing is `drop_connect_rate` which controls\n",
        "the dropout rate responsible for [stochastic depth](https://arxiv.org/abs/1603.09382).\n",
        "This parameter serves as a toggle for extra regularization in finetuning, but does not\n",
        "affect loaded weights. For example, when stronger regularization is desired, try:\n",
        "\n",
        "```python\n",
        "model = EfficientNetB0(weights='imagenet', drop_connect_rate=0.4)\n",
        "```\n",
        "The default value is 0.2.\n",
        "\n",
        "## Example: EfficientNetB0 for Stanford Dogs.\n",
        "\n",
        "EfficientNet is capable of a wide range of image classification tasks.\n",
        "This makes it a good model for transfer learning.\n",
        "As an end-to-end example, we will show using pre-trained EfficientNetB0 on\n",
        "[Stanford Dogs](http://vision.stanford.edu/aditya86/ImageNetDogs/main.html) dataset."
      ]
    },
    {
      "cell_type": "code",
      "metadata": {
        "id": "Wa7ZQ0-gD40n"
      },
      "source": [
        "# IMG_SIZE is determined by EfficientNet model choice\n",
        "IMG_SIZE = 224"
      ],
      "execution_count": 1,
      "outputs": []
    },
    {
      "cell_type": "markdown",
      "metadata": {
        "id": "N12aLe3gD40o"
      },
      "source": [
        "## Setup and data loading\n",
        "\n",
        "This example requires TensorFlow 2.3 or above.\n",
        "\n",
        "To use TPU, the TPU runtime must match current running TensorFlow\n",
        "version. If there is a mismatch, try:\n",
        "\n",
        "```python\n",
        "from cloud_tpu_client import Client\n",
        "c = Client()\n",
        "c.configure_tpu_version(tf.__version__, restart_type=\"always\")\n",
        "```"
      ]
    },
    {
      "cell_type": "code",
      "metadata": {
        "id": "cjUyOF-KD40o",
        "colab": {
          "base_uri": "https://localhost:8080/"
        },
        "outputId": "473d8449-1619-48a0-e1ad-62e0759f811f"
      },
      "source": [
        "import tensorflow as tf\n",
        "\n",
        "try:\n",
        "    tpu = tf.distribute.cluster_resolver.TPUClusterResolver()  # TPU detection\n",
        "    print(\"Running on TPU \", tpu.cluster_spec().as_dict()[\"worker\"])\n",
        "    tf.config.experimental_connect_to_cluster(tpu)\n",
        "    tf.tpu.experimental.initialize_tpu_system(tpu)\n",
        "    strategy = tf.distribute.experimental.TPUStrategy(tpu)\n",
        "except ValueError:\n",
        "    print(\"Not connected to a TPU runtime. Using CPU/GPU strategy\")\n",
        "    strategy = tf.distribute.MirroredStrategy()\n"
      ],
      "execution_count": 2,
      "outputs": [
        {
          "output_type": "stream",
          "text": [
            "Not connected to a TPU runtime. Using CPU/GPU strategy\n",
            "INFO:tensorflow:Using MirroredStrategy with devices ('/job:localhost/replica:0/task:0/device:GPU:0',)\n"
          ],
          "name": "stdout"
        }
      ]
    },
    {
      "cell_type": "markdown",
      "metadata": {
        "id": "YNZYLTNnD40p"
      },
      "source": [
        "### Loading data\n",
        "\n",
        "Here we load data from [tensorflow_datasets](https://www.tensorflow.org/datasets)\n",
        "(hereafter TFDS).\n",
        "Stanford Dogs dataset is provided in\n",
        "TFDS as [stanford_dogs](https://www.tensorflow.org/datasets/catalog/stanford_dogs).\n",
        "It features 20,580 images that belong to 120 classes of dog breeds\n",
        "(12,000 for training and 8,580 for testing).\n",
        "\n",
        "By simply changing `dataset_name` below, you may also try this notebook for\n",
        "other datasets in TFDS such as\n",
        "[cifar10](https://www.tensorflow.org/datasets/catalog/cifar10),\n",
        "[cifar100](https://www.tensorflow.org/datasets/catalog/cifar100),\n",
        "[food101](https://www.tensorflow.org/datasets/catalog/food101),\n",
        "etc. When the images are much smaller than the size of EfficientNet input,\n",
        "we can simply upsample the input images. It has been shown in\n",
        "[Tan and Le, 2019](https://arxiv.org/abs/1905.11946) that transfer learning\n",
        "result is better for increased resolution even if input images remain small.\n",
        "\n",
        "For TPU: if using TFDS datasets,\n",
        "a [GCS bucket](https://cloud.google.com/storage/docs/key-terms#buckets)\n",
        "location is required to save the datasets. For example:\n",
        "\n",
        "```python\n",
        "tfds.load(dataset_name, data_dir=\"gs://example-bucket/datapath\")\n",
        "```\n",
        "\n",
        "Also, both the current environment and the TPU service account have\n",
        "proper [access](https://cloud.google.com/tpu/docs/storage-buckets#authorize_the_service_account)\n",
        "to the bucket. Alternatively, for small datasets you may try loading data\n",
        "into the memory and use `tf.data.Dataset.from_tensor_slices()`."
      ]
    },
    {
      "cell_type": "code",
      "metadata": {
        "id": "drmkGzInD40q",
        "colab": {
          "base_uri": "https://localhost:8080/",
          "height": 499,
          "referenced_widgets": [
            "82ee8f8daa6541e6b104a2f60ea14b0d",
            "4c6c8c3a4d25462d81a0f30f3bf8304b",
            "9b446623ea0540e48bace4aa3d22ec63",
            "e9fe36a4b22149c7a951afa66115c188",
            "e78ca6b5611c482d9d48cfd5a647a62e",
            "85f8a13720234758a1e0b1c19de40f3b",
            "921d21e37053455195e9795f50a6bb05",
            "3bf27545e1b1458ab98671a6e09f63cc",
            "ed1cdcef0b3d4dabab54cf52f439510b",
            "0c8b8825ff9348ac944ef7161b36e382",
            "8a19d8e49ed74cd3a8e40c4bb28962b6",
            "a4ff3a13c3ea41bda84c3fcec266fea9",
            "df59f552babc44b9857307f856927f22",
            "d7354a144038474d89feb806af8072ed",
            "1c362e1e8b9b40a7a2b0f734a8d2e2c1",
            "1bd8aca61d994288b9a3e16f652eb63e",
            "7b01493ddd2442a08a0815884e130cb0",
            "717c60e07bc848428511a318420d0e8f",
            "b78e6187071f4adf814bb4527eddabe0",
            "dbb73bfac4e0403a8bebdd7781d04a02",
            "5ffe5318f1e24ff1ac4c11a81b6b792e",
            "753056fcd7f44b3599171b570f6fae49",
            "0b13df62ff054cca918cc6ed78afec92",
            "64f5f258bbb045a8ae2d43a05f8e5a9e",
            "74b85fde5f43499b983841923b6817d0",
            "795a4ad9cb4c4edd8f84462adb0d931c",
            "9767d242ebc141d2abb2f6c60afbf7a3",
            "49892868ad7f40cd8b94abd7a2bb7223",
            "2cb2a10888234ecbaf86495dc664ee15",
            "191f9a119b7c4fa2a937dc20c26cde1f",
            "d3a5de359bf1436e99baf1acd41ca36c",
            "deed7e5efca24c508494985a53da555e",
            "b08ea94ffc1c4c248807e9f11f4e32db",
            "9e6b2fddbbd64069b50376707b0e4435",
            "f0f1e4e788614faf93c280bb28da37fe",
            "59ded9b36a274e449d04fa0d27e4032f",
            "3510a5191aee4aab912938cb2a1f8f3f",
            "8ce967e375a248eb89cdd970fd6ae129",
            "f4ce91707242458f976728070e1fbe20",
            "b8df776d6d274e8f895232316c33d8ff",
            "534fb15ca06445a9986b20822aed1765",
            "1946cbb84ff749d7b67b6cc888d0661e",
            "bc4473266d1249388d53088083f3de15",
            "c8dd3fb3c4b74398ba880b302ccd34aa",
            "71fa51f9ea7842b9b3b58e132854c22c",
            "aeced25e266a40499978926ced5a49e8",
            "4dfcfd744df24018bed7b8c44e5e78ec",
            "5f0cf6cffad4481dac05e619fd64967f",
            "22ff3045797c4403a9120060519fb44b",
            "3129a8c9679148398afd55ccac98009c",
            "129787beb8c44a9bae0b361fa214c579",
            "a6d8111b523e4937a81a0f934f662dc1",
            "41d303f923194028a7b0036194ef7a39",
            "e9bc36da5095469281a756fb7c7b0e65",
            "407ff6f37eec40e4a35196e02df8d109",
            "26339d324bdd4498bfcf7215874ef7a2",
            "d6224365827d475385e33324624230a7",
            "6139d11db6f147daabb03319626ad6e7",
            "2a1a22ae46f54752a67bd6c3be068bd3",
            "8ea2473b808c4fc1b99cad68af972871",
            "4dea063b494149b8923f1310d43b0c62",
            "49270dffcec545978059315a23fdb55a",
            "ef4b84f907c7413faabcb8ce938e4b55",
            "122291ed2fbc42d8a271eed6e7116845",
            "7131190d24304956b7098c2cf298d710",
            "f0cbb6cf06e44b55a8edba5e1d5fa9ce",
            "3b1117ee23a446a9b3d077d4dfd5ac89",
            "8922b6aaaf19455d98deda75e0b06fc6",
            "26dfd72e6322410ea396905cfb551770",
            "af05d380641a4a04bf309c18b0f76eb1",
            "cfac6b64ab59449eb964a23e3f60c2c0",
            "d606ae09c37f4354af9c94678cc42569"
          ]
        },
        "outputId": "04ad795f-e3b0-4468-db88-51d7b1b68e4e"
      },
      "source": [
        "import tensorflow_datasets as tfds\n",
        "\n",
        "batch_size = 128\n",
        "\n",
        "dataset_name = \"stanford_dogs\"\n",
        "(ds_train, ds_test), ds_info = tfds.load(\n",
        "    dataset_name, split=[\"train\", \"test\"], with_info=True, as_supervised=True\n",
        ")\n",
        "NUM_CLASSES = ds_info.features[\"label\"].num_classes\n"
      ],
      "execution_count": 3,
      "outputs": [
        {
          "output_type": "stream",
          "text": [
            "\u001b[1mDownloading and preparing dataset stanford_dogs/0.2.0 (download: 778.12 MiB, generated: Unknown size, total: 778.12 MiB) to /root/tensorflow_datasets/stanford_dogs/0.2.0...\u001b[0m\n"
          ],
          "name": "stdout"
        },
        {
          "output_type": "display_data",
          "data": {
            "application/vnd.jupyter.widget-view+json": {
              "model_id": "82ee8f8daa6541e6b104a2f60ea14b0d",
              "version_minor": 0,
              "version_major": 2
            },
            "text/plain": [
              "HBox(children=(FloatProgress(value=1.0, bar_style='info', description='Dl Completed...', max=1.0, style=Progre…"
            ]
          },
          "metadata": {
            "tags": []
          }
        },
        {
          "output_type": "display_data",
          "data": {
            "application/vnd.jupyter.widget-view+json": {
              "model_id": "ed1cdcef0b3d4dabab54cf52f439510b",
              "version_minor": 0,
              "version_major": 2
            },
            "text/plain": [
              "HBox(children=(FloatProgress(value=1.0, bar_style='info', description='Dl Size...', max=1.0, style=ProgressSty…"
            ]
          },
          "metadata": {
            "tags": []
          }
        },
        {
          "output_type": "stream",
          "text": [
            "\n",
            "\n",
            "\n",
            "\n"
          ],
          "name": "stdout"
        },
        {
          "output_type": "display_data",
          "data": {
            "application/vnd.jupyter.widget-view+json": {
              "model_id": "7b01493ddd2442a08a0815884e130cb0",
              "version_minor": 0,
              "version_major": 2
            },
            "text/plain": [
              "HBox(children=(FloatProgress(value=1.0, bar_style='info', description='Dl Completed...', max=1.0, style=Progre…"
            ]
          },
          "metadata": {
            "tags": []
          }
        },
        {
          "output_type": "display_data",
          "data": {
            "application/vnd.jupyter.widget-view+json": {
              "model_id": "74b85fde5f43499b983841923b6817d0",
              "version_minor": 0,
              "version_major": 2
            },
            "text/plain": [
              "HBox(children=(FloatProgress(value=1.0, bar_style='info', description='Dl Size...', max=1.0, style=ProgressSty…"
            ]
          },
          "metadata": {
            "tags": []
          }
        },
        {
          "output_type": "display_data",
          "data": {
            "application/vnd.jupyter.widget-view+json": {
              "model_id": "b08ea94ffc1c4c248807e9f11f4e32db",
              "version_minor": 0,
              "version_major": 2
            },
            "text/plain": [
              "HBox(children=(FloatProgress(value=1.0, bar_style='info', description='Extraction completed...', max=1.0, styl…"
            ]
          },
          "metadata": {
            "tags": []
          }
        },
        {
          "output_type": "stream",
          "text": [
            "\n",
            "\n",
            "\n",
            "\n",
            "\n",
            "\n"
          ],
          "name": "stdout"
        },
        {
          "output_type": "display_data",
          "data": {
            "application/vnd.jupyter.widget-view+json": {
              "model_id": "534fb15ca06445a9986b20822aed1765",
              "version_minor": 0,
              "version_major": 2
            },
            "text/plain": [
              "HBox(children=(FloatProgress(value=1.0, bar_style='info', max=1.0), HTML(value='')))"
            ]
          },
          "metadata": {
            "tags": []
          }
        },
        {
          "output_type": "stream",
          "text": [
            "\rShuffling and writing examples to /root/tensorflow_datasets/stanford_dogs/0.2.0.incompleteQDIBJV/stanford_dogs-train.tfrecord\n"
          ],
          "name": "stdout"
        },
        {
          "output_type": "display_data",
          "data": {
            "application/vnd.jupyter.widget-view+json": {
              "model_id": "22ff3045797c4403a9120060519fb44b",
              "version_minor": 0,
              "version_major": 2
            },
            "text/plain": [
              "HBox(children=(FloatProgress(value=0.0, max=12000.0), HTML(value='')))"
            ]
          },
          "metadata": {
            "tags": []
          }
        },
        {
          "output_type": "stream",
          "text": [
            "\r"
          ],
          "name": "stdout"
        },
        {
          "output_type": "display_data",
          "data": {
            "application/vnd.jupyter.widget-view+json": {
              "model_id": "d6224365827d475385e33324624230a7",
              "version_minor": 0,
              "version_major": 2
            },
            "text/plain": [
              "HBox(children=(FloatProgress(value=1.0, bar_style='info', max=1.0), HTML(value='')))"
            ]
          },
          "metadata": {
            "tags": []
          }
        },
        {
          "output_type": "stream",
          "text": [
            "\rShuffling and writing examples to /root/tensorflow_datasets/stanford_dogs/0.2.0.incompleteQDIBJV/stanford_dogs-test.tfrecord\n"
          ],
          "name": "stdout"
        },
        {
          "output_type": "display_data",
          "data": {
            "application/vnd.jupyter.widget-view+json": {
              "model_id": "7131190d24304956b7098c2cf298d710",
              "version_minor": 0,
              "version_major": 2
            },
            "text/plain": [
              "HBox(children=(FloatProgress(value=0.0, max=8580.0), HTML(value='')))"
            ]
          },
          "metadata": {
            "tags": []
          }
        },
        {
          "output_type": "stream",
          "text": [
            "\u001b[1mDataset stanford_dogs downloaded and prepared to /root/tensorflow_datasets/stanford_dogs/0.2.0. Subsequent calls will reuse this data.\u001b[0m\n",
            "\r"
          ],
          "name": "stdout"
        }
      ]
    },
    {
      "cell_type": "markdown",
      "metadata": {
        "id": "AoG-GxFCD40q"
      },
      "source": [
        "When the dataset include images with various size, we need to resize them into a\n",
        "shared size. The Stanford Dogs dataset includes only images at least 200x200\n",
        "pixels in size. Here we resize the images to the input size needed for EfficientNet."
      ]
    },
    {
      "cell_type": "code",
      "metadata": {
        "id": "zqei-KsBD40q"
      },
      "source": [
        "size = (IMG_SIZE, IMG_SIZE)\n",
        "ds_train = ds_train.map(lambda image, label: (tf.image.resize(image, size), label))\n",
        "ds_test = ds_test.map(lambda image, label: (tf.image.resize(image, size), label))"
      ],
      "execution_count": 4,
      "outputs": []
    },
    {
      "cell_type": "markdown",
      "metadata": {
        "id": "bsZVUV0RD40r"
      },
      "source": [
        "### Visualizing the data\n",
        "\n",
        "The following code shows the first 9 images with their labels."
      ]
    },
    {
      "cell_type": "code",
      "metadata": {
        "id": "OJqK53xID40r",
        "colab": {
          "base_uri": "https://localhost:8080/",
          "height": 264
        },
        "outputId": "60588ca8-2abe-446c-c775-7563454a62b7"
      },
      "source": [
        "import matplotlib.pyplot as plt\n",
        "\n",
        "\n",
        "def format_label(label):\n",
        "    string_label = label_info.int2str(label)\n",
        "    return string_label.split(\"-\")[1]\n",
        "\n",
        "\n",
        "label_info = ds_info.features[\"label\"]\n",
        "for i, (image, label) in enumerate(ds_train.take(9)):\n",
        "    ax = plt.subplot(3, 3, i + 1)\n",
        "    plt.imshow(image.numpy().astype(\"uint8\"))\n",
        "    plt.title(\"{}\".format(format_label(label)))\n",
        "    plt.axis(\"off\")\n"
      ],
      "execution_count": 5,
      "outputs": [
        {
          "output_type": "display_data",
          "data": {
            "image/png": "[encoded data removed]",
            "text/plain": [
              "<Figure size 432x288 with 9 Axes>"
            ]
          },
          "metadata": {
            "tags": [],
            "needs_background": "light"
          }
        }
      ]
    },
    {
      "cell_type": "markdown",
      "metadata": {
        "id": "zrn0o9OjD40r"
      },
      "source": [
        "### Data augmentation\n",
        "\n",
        "We can use preprocessing layers APIs for image augmentation."
      ]
    },
    {
      "cell_type": "code",
      "metadata": {
        "id": "H5nKn6P7D40s"
      },
      "source": [
        "from tensorflow.keras.layers.experimental import preprocessing\n",
        "from tensorflow.keras.models import Sequential\n",
        "from tensorflow.keras import layers\n",
        "\n",
        "img_augmentation = Sequential(\n",
        "    [\n",
        "        preprocessing.RandomRotation(factor=0.15),\n",
        "        preprocessing.RandomTranslation(height_factor=0.1, width_factor=0.1),\n",
        "        preprocessing.RandomFlip(),\n",
        "        preprocessing.RandomContrast(factor=0.1),\n",
        "    ],\n",
        "    name=\"img_augmentation\",\n",
        ")"
      ],
      "execution_count": 6,
      "outputs": []
    },
    {
      "cell_type": "markdown",
      "metadata": {
        "id": "xVQ3YIx2D40s"
      },
      "source": [
        "This `Sequential` model object can be used both as a part of\n",
        "the model we later build, and as a function to preprocess\n",
        "data before feeding into the model. Using them as function makes\n",
        "it easy to visualize the augmented images. Here we plot 9 examples\n",
        "of augmentation result of a given figure."
      ]
    },
    {
      "cell_type": "code",
      "metadata": {
        "id": "mFvPH7T3D40s",
        "colab": {
          "base_uri": "https://localhost:8080/",
          "height": 264
        },
        "outputId": "25081a05-2b35-4776-ef0f-97bb18df3bd6"
      },
      "source": [
        "for image, label in ds_train.take(1):\n",
        "    for i in range(9):\n",
        "        ax = plt.subplot(3, 3, i + 1)\n",
        "        aug_img = img_augmentation(tf.expand_dims(image, axis=0))\n",
        "        plt.imshow(aug_img[0].numpy().astype(\"uint8\"))\n",
        "        plt.title(\"{}\".format(format_label(label)))\n",
        "        plt.axis(\"off\")\n"
      ],
      "execution_count": 7,
      "outputs": [
        {
          "output_type": "display_data",
          "data": {
            "image/png": "[encoded data removed]",
            "text/plain": [
              "<Figure size 432x288 with 9 Axes>"
            ]
          },
          "metadata": {
            "tags": [],
            "needs_background": "light"
          }
        }
      ]
    },
    {
      "cell_type": "markdown",
      "metadata": {
        "id": "d1XP6m5QD40t"
      },
      "source": [
        "### Prepare inputs\n",
        "\n",
        "Once we verify the input data and augmentation are working correctly,\n",
        "we prepare dataset for training. The input data are resized to uniform\n",
        "`IMG_SIZE`. The labels are put into one-hot\n",
        "(a.k.a. categorical) encoding. The dataset is batched.\n",
        "\n",
        "Note: `prefetch` and `AUTOTUNE` may in some situation improve\n",
        "performance, but depends on environment and the specific dataset used.\n",
        "See this [guide](https://www.tensorflow.org/guide/data_performance)\n",
        "for more information on data pipeline performance."
      ]
    },
    {
      "cell_type": "code",
      "metadata": {
        "id": "Ps5wXAG_D40t"
      },
      "source": [
        "# One-hot / categorical encoding\n",
        "def input_preprocess(image, label):\n",
        "    label = tf.one_hot(label, NUM_CLASSES)\n",
        "    return image, label\n",
        "\n",
        "\n",
        "ds_train = ds_train.map(\n",
        "    input_preprocess, num_parallel_calls=tf.data.experimental.AUTOTUNE\n",
        ")\n",
        "ds_train = ds_train.batch(batch_size=batch_size, drop_remainder=True)\n",
        "ds_train = ds_train.prefetch(tf.data.experimental.AUTOTUNE)\n",
        "\n",
        "ds_test = ds_test.map(input_preprocess)\n",
        "ds_test = ds_test.batch(batch_size=batch_size, drop_remainder=True)\n"
      ],
      "execution_count": 8,
      "outputs": []
    },
    {
      "cell_type": "markdown",
      "metadata": {
        "id": "nwBrw2HyD40t"
      },
      "source": [
        "## Training a model from scratch\n",
        "\n",
        "We build an EfficientNetB0 with 120 output classes, that is initialized from scratch:\n",
        "\n",
        "Note: the accuracy will increase very slowly and may overfit."
      ]
    },
    {
      "cell_type": "code",
      "metadata": {
        "id": "wqj6JGg7D40t"
      },
      "source": [
        "from tensorflow.keras.applications import EfficientNetB0\n",
        "\n",
        "# with strategy.scope():\n",
        "#     inputs = layers.Input(shape=(IMG_SIZE, IMG_SIZE, 3))\n",
        "#     x = img_augmentation(inputs)\n",
        "#     outputs = EfficientNetB0(include_top=True, weights=None, classes=NUM_CLASSES)(x)\n",
        "\n",
        "#     model = tf.keras.Model(inputs, outputs)\n",
        "#     model.compile(\n",
        "#         optimizer=\"adam\", loss=\"categorical_crossentropy\", metrics=[\"accuracy\"]\n",
        "#     )\n",
        "\n",
        "# model.summary()\n",
        "\n",
        "# epochs = 40  # @param {type: \"slider\", min:10, max:100}\n",
        "# hist = model.fit(ds_train, epochs=epochs, validation_data=ds_test,\n",
        "#                  callbacks=[tf.keras.callbacks.EarlyStopping(patience=10)],\n",
        "#                  verbose=2)\n"
      ],
      "execution_count": 17,
      "outputs": []
    },
    {
      "cell_type": "markdown",
      "metadata": {
        "id": "EmxjNOUVD40t"
      },
      "source": [
        "Training the model is relatively fast (takes only 20 seconds per epoch on TPUv2 that is\n",
        "available on Colab). This might make it sounds easy to simply train EfficientNet on any\n",
        "dataset wanted from scratch. However, training EfficientNet on smaller datasets,\n",
        "especially those with lower resolution like CIFAR-100, faces the significant challenge of\n",
        "overfitting.\n",
        "\n",
        "Hence training from scratch requires very careful choice of hyperparameters and is\n",
        "difficult to find suitable regularization. It would also be much more demanding in resources.\n",
        "Plotting the training and validation accuracy\n",
        "makes it clear that validation accuracy stagnates at a low value."
      ]
    },
    {
      "cell_type": "code",
      "metadata": {
        "id": "qE9rY7VxD40u"
      },
      "source": [
        "import matplotlib.pyplot as plt\n",
        "\n",
        "\n",
        "def plot_hist(hist):\n",
        "    plt.plot(hist.history[\"accuracy\"])\n",
        "    plt.plot(hist.history[\"val_accuracy\"])\n",
        "    plt.title(\"model accuracy\")\n",
        "    plt.ylabel(\"accuracy\")\n",
        "    plt.xlabel(\"epoch\")\n",
        "    plt.legend([\"train\", \"validation\"], loc=\"upper left\")\n",
        "    plt.show()\n",
        "\n",
        "\n",
        "# plot_hist(hist)"
      ],
      "execution_count": 18,
      "outputs": []
    },
    {
      "cell_type": "markdown",
      "metadata": {
        "id": "ynVwA-v8D40u"
      },
      "source": [
        "## Transfer learning from pre-trained weights\n",
        "\n",
        "Here we initialize the model with pre-trained ImageNet weights,\n",
        "and we fine-tune it on our own dataset."
      ]
    },
    {
      "cell_type": "code",
      "metadata": {
        "id": "1X6zb5eID40u"
      },
      "source": [
        "from tensorflow.keras.layers.experimental import preprocessing\n",
        "\n",
        "\n",
        "def build_model(num_classes):\n",
        "    inputs = layers.Input(shape=(IMG_SIZE, IMG_SIZE, 3))\n",
        "    x = img_augmentation(inputs)\n",
        "    model = EfficientNetB0(include_top=False, input_tensor=x, weights=\"imagenet\")\n",
        "\n",
        "    # Freeze the pretrained weights\n",
        "    model.trainable = False\n",
        "\n",
        "    # Rebuild top\n",
        "    x = layers.GlobalAveragePooling2D(name=\"avg_pool\")(model.output)\n",
        "    x = layers.BatchNormalization()(x)\n",
        "\n",
        "    top_dropout_rate = 0.2\n",
        "    x = layers.Dropout(top_dropout_rate, name=\"top_dropout\")(x)\n",
        "    outputs = layers.Dense(NUM_CLASSES, activation=\"softmax\", name=\"pred\")(x)\n",
        "\n",
        "    # Compile\n",
        "    model = tf.keras.Model(inputs, outputs, name=\"EfficientNet\")\n",
        "    optimizer = tf.keras.optimizers.Adam(learning_rate=1e-2)\n",
        "    model.compile(\n",
        "        optimizer=optimizer, loss=\"categorical_crossentropy\", metrics=[\"accuracy\"]\n",
        "    )\n",
        "    return model\n"
      ],
      "execution_count": 19,
      "outputs": []
    },
    {
      "cell_type": "markdown",
      "metadata": {
        "id": "Yrr1JmX0D40u"
      },
      "source": [
        "The first step to transfer learning is to freeze all layers and train only the top\n",
        "layers. For this step, a relatively large learning rate (1e-2) can be used.\n",
        "Note that validation accuracy and loss will usually be better than training\n",
        "accuracy and loss. This is because the regularization is strong, which only\n",
        "suppresses training-time metrics.\n",
        "\n",
        "Note that the convergence may take up to 50 epochs depending on choice of learning rate.\n",
        "If image augmentation layers were not\n",
        "applied, the validation accuracy may only reach ~60%."
      ]
    },
    {
      "cell_type": "code",
      "metadata": {
        "id": "gqE1Qs3uD40u"
      },
      "source": [
        "# from tensorflow.keras.applications import EfficientNetB0\n",
        "\n",
        "# with strategy.scope():\n",
        "#     model = build_model(num_classes=NUM_CLASSES)\n",
        "\n",
        "# epochs = 8  # @param {type: \"slider\", min:8, max:80}\n",
        "# hist = model.fit(ds_train, epochs=epochs, validation_data=ds_test,\n",
        "#                  callbacks=[tf.keras.callbacks.EarlyStopping(patience=10)],\n",
        "#                  verbose=2)\n",
        "# plot_hist(hist)"
      ],
      "execution_count": 20,
      "outputs": []
    },
    {
      "cell_type": "markdown",
      "metadata": {
        "id": "wYM0gjpPD40v"
      },
      "source": [
        "The second step is to unfreeze a number of layers and fit the model using smaller\n",
        "learning rate. In this example we show unfreezing all layers, but depending on\n",
        "specific dataset it may be desireble to only unfreeze a fraction of all layers.\n",
        "\n",
        "When the feature extraction with\n",
        "pretrained model works good enough, this step would give a very limited gain on\n",
        "validation accuracy. In our case we only see a small improvement,\n",
        "as ImageNet pretraining already exposed the model to a good amount of dogs.\n",
        "\n",
        "On the other hand, when we use pretrained weights on a dataset that is more different\n",
        "from ImageNet, this fine-tuning step can be crucial as the feature extractor also\n",
        "needs to be adjusted by a considerable amount. Such a situation can be demonstrated\n",
        "if choosing CIFAR-100 dataset instead, where fine-tuning boosts validation accuracy\n",
        "by about 10% to pass 80% on `EfficientNetB0`.\n",
        "In such a case the convergence may take more than 50 epochs.\n",
        "\n",
        "A side note on freezing/unfreezing models: setting `trainable` of a `Model` will\n",
        "simultaneously set all layers belonging to the `Model` to the same `trainable`\n",
        "attribute. Each layer is trainable only if both the layer itself and the model\n",
        "containing it are trainable. Hence when we need to partially freeze/unfreeze\n",
        "a model, we need to make sure the `trainable` attribute of the model is set\n",
        "to `True`."
      ]
    },
    {
      "cell_type": "code",
      "metadata": {
        "id": "srpLcBZMD40v"
      },
      "source": [
        "\n",
        "# def unfreeze_model(model, block7=True):\n",
        "#     # We unfreeze the final block and top layers while leaving BatchNorm layers frozen\n",
        "#     for i, layer in enumerate(model.layers):\n",
        "#         if (block7 and layer.name.startswith('block7')) or layer.name.startswith('top'):\n",
        "#             if not isinstance(layer, layers.BatchNormalization):\n",
        "#                 layer.trainable = True\n",
        "#                 print('unfreeze layer {} of {}: {}'.format(i, len(model.layers), layer.name))\n",
        "\n",
        "#     optimizer = tf.keras.optimizers.Adam(learning_rate=1e-4)\n",
        "#     model.compile(\n",
        "#         optimizer=optimizer, loss=\"categorical_crossentropy\", metrics=[\"accuracy\"]\n",
        "#     )\n",
        "\n",
        "# with strategy.scope():\n",
        "#     model = build_model(num_classes=NUM_CLASSES)\n",
        "\n",
        "# unfreeze_model(model, block7=True)\n",
        "\n",
        "# epochs = 25  # @param {type: \"slider\", min:8, max:50}\n",
        "# hist = model.fit(ds_train, epochs=epochs, validation_data=ds_test,\n",
        "#     callbacks=[tf.keras.callbacks.EarlyStopping(patience=10)],\n",
        "#     verbose=2)\n",
        "# plot_hist(hist)"
      ],
      "execution_count": 21,
      "outputs": []
    },
    {
      "cell_type": "markdown",
      "metadata": {
        "id": "LNVhDniqD40v"
      },
      "source": [
        "### Tips for fine tuning EfficientNet\n",
        "\n",
        "On unfreezing layers:\n",
        "\n",
        "- The `BathcNormalization` layers need to be kept frozen\n",
        "([more details](https://keras.io/guides/transfer_learning/)).\n",
        "If they are also turned to trainable, the\n",
        "first epoch after unfreezing will significantly reduce accuracy.\n",
        "- In some cases it may be beneficial to open up only a portion of layers instead of\n",
        "unfreezing all. This will make fine tuning much faster when going to larger models like\n",
        "B7.\n",
        "- Each block needs to be all turned on or off. This is because the architecture includes\n",
        "a shortcut from the first layer to the last layer for each block. Not respecting blocks\n",
        "also significantly harms the final performance.\n",
        "\n",
        "Some other tips for utilizing EfficientNet:\n",
        "\n",
        "- Larger variants of EfficientNet do not guarantee improved performance, especially for\n",
        "tasks with less data or fewer classes. In such a case, the larger variant of EfficientNet\n",
        "chosen, the harder it is to tune hyperparameters.\n",
        "- EMA (Exponential Moving Average) is very helpful in training EfficientNet from scratch,\n",
        "but not so much for transfer learning.\n",
        "- Do not use the RMSprop setup as in the original paper for transfer learning. The\n",
        "momentum and learning rate are too high for transfer learning. It will easily corrupt the\n",
        "pretrained weight and blow up the loss. A quick check is to see if loss (as categorical\n",
        "cross entropy) is getting significantly larger than log(NUM_CLASSES) after the same\n",
        "epoch. If so, the initial learning rate/momentum is too high.\n",
        "- Smaller batch size benefit validation accuracy, possibly due to effectively providing\n",
        "regularization.\n",
        "\n",
        "## Using the latest EfficientNet weights\n",
        "\n",
        "Since the initial paper, the EfficientNet has been improved by various methods for data\n",
        "preprocessing and for using unlabelled data to enhance learning results. These\n",
        "improvements are relatively hard and computationally costly to reproduce, and require\n",
        "extra code; but the weights are readily available in the form of TF checkpoint files. The\n",
        "model architecture has not changed, so loading the improved checkpoints is possible.\n",
        "\n",
        "To use a checkpoint provided at\n",
        "[the official model repository](https://github.com/tensorflow/tpu/tree/master/models/official/efficientnet), first\n",
        "download the checkpoint. As example, here we download noisy-student version of B1:\n",
        "\n",
        "```\n",
        "!wget https://storage.googleapis.com/cloud-tpu-checkpoints/efficientnet\\\n",
        "       /noisystudent/noisy_student_efficientnet-b1.tar.gz\n",
        "!tar -xf noisy_student_efficientnet-b1.tar.gz\n",
        "```\n",
        "\n",
        "Then use the script [efficientnet_weight_update_util.py](https://github.com/tensorflow/tensorflow/blob/master/tensorflow/python/keras/applications/efficientnet_weight_update_util.py) to convert ckpt file to h5 file.\n",
        "\n",
        "```\n",
        "!python efficientnet_weight_update_util.py --model b1 --notop --ckpt \\\n",
        "        efficientnet-b1/model.ckpt --o efficientnetb1_notop.h5\n",
        "```\n",
        "\n",
        "When creating model, use the following to load new weight:\n",
        "\n",
        "```python\n",
        "model = EfficientNetB1(weights=\"efficientnetb1_notop.h5\", include_top=False)\n",
        "```"
      ]
    },
    {
      "cell_type": "markdown",
      "metadata": {
        "id": "v9LvXsGxHKGe"
      },
      "source": [
        "## Pruno2D"
      ]
    },
    {
      "cell_type": "code",
      "metadata": {
        "colab": {
          "base_uri": "https://localhost:8080/"
        },
        "id": "NKp3KPAEHPFV",
        "outputId": "f0d24eec-f8da-4000-8545-7653893ae43d"
      },
      "source": [
        "!pip install -q git+https://github.com/LanceNorskog/keras-pruno.git\n",
        "from keras_pruno import Pruno2D"
      ],
      "execution_count": 22,
      "outputs": [
        {
          "output_type": "stream",
          "text": [
            "  Building wheel for keras-pruno (setup.py) ... \u001b[?25l\u001b[?25hdone\n"
          ],
          "name": "stdout"
        }
      ]
    },
    {
      "cell_type": "markdown",
      "metadata": {
        "id": "3rXwIWlcHbmI"
      },
      "source": [
        "### Build a model with a Pruno2D dropout layer after the last CNN\n",
        "Use EfficientnetB0 with Imagenet weights, leave completely frozen.\n",
        "\n",
        "Use Pruno2D to analyze the output of the final CNN, and affect the final GlobalAveragePooling2D and Dense layers. The Pruno2D layer confuses a BatchNormalization layer immediately afterward, so leave it out."
      ]
    },
    {
      "cell_type": "code",
      "metadata": {
        "id": "8W6M4VXyHlUb"
      },
      "source": [
        "def build_model_pruno(num_classes, lr=1e-2, bn=False):\n",
        "    inputs = layers.Input(shape=(IMG_SIZE, IMG_SIZE, 3))\n",
        "    x = img_augmentation(inputs)\n",
        "    model = EfficientNetB0(include_top=False, input_tensor=x, weights=\"imagenet\")\n",
        "\n",
        "    # Freeze the pretrained weights\n",
        "    model.trainable = False\n",
        "\n",
        "    # Rebuild top with Pruno2D. \n",
        "    x = Pruno2D(0.65, batchwise=True, norm=True, name='pred_pruno2d')(model.output)\n",
        "    pruno_layer = x\n",
        "    x = layers.GlobalAveragePooling2D(name=\"pred_avg_pool\")(x)\n",
        "    if bn:\n",
        "        x = layers.BatchNormalization()(x)\n",
        "        bn_layer = x\n",
        "    else:\n",
        "        bn_layer = None\n",
        "\n",
        "    top_dropout_rate = 0.2\n",
        "    x = layers.Dropout(top_dropout_rate, name=\"pred_dropout\")(x)\n",
        "    outputs = layers.Dense(NUM_CLASSES, activation=\"softmax\", name=\"pred\")(x)\n",
        "\n",
        "    # Compile\n",
        "    model = tf.keras.Model(inputs, outputs, name=\"EfficientNet\")\n",
        "    optimizer = tf.keras.optimizers.Adam(learning_rate=lr)\n",
        "    model.compile(\n",
        "        optimizer=optimizer, loss=\"categorical_crossentropy\", metrics=[\"accuracy\"]\n",
        "    )\n",
        "    return model, pruno_layer, bn_layer\n",
        "\n",
        "def unfreeze_model(model, block7=True, lr=1e-4):\n",
        "    # We unfreeze the final block and top layers while leaving BatchNorm layers frozen\n",
        "    for i, layer in enumerate(model.layers):\n",
        "        if (block7 and layer.name.startswith('block7')) or layer.name.startswith('top'):\n",
        "            if not isinstance(layer, layers.BatchNormalization):\n",
        "                layer.trainable = True\n",
        "                print('unfreeze layer {} of {}: {}'.format(i, len(model.layers), layer.name))\n",
        "\n",
        "    optimizer = tf.keras.optimizers.Adam(learning_rate=lr)\n",
        "    model.compile(\n",
        "        optimizer=optimizer, loss=\"categorical_crossentropy\", metrics=[\"accuracy\"]\n",
        "    )"
      ],
      "execution_count": 23,
      "outputs": []
    },
    {
      "cell_type": "markdown",
      "metadata": {
        "id": "1pDekO15JWKa"
      },
      "source": [
        "Train the classifier with a patience of 10. "
      ]
    },
    {
      "cell_type": "code",
      "metadata": {
        "colab": {
          "base_uri": "https://localhost:8080/",
          "height": 1000
        },
        "id": "7k1SG1vOJWVB",
        "outputId": "77360397-203e-446a-d115-e199b3d9a1f2"
      },
      "source": [
        "with strategy.scope():\n",
        "    model, _, _ = build_model_pruno(num_classes=NUM_CLASSES)\n",
        "\n",
        "epochs = 25  # @param {type: \"slider\", min:8, max:80}\n",
        "hist = model.fit(ds_train, epochs=epochs, validation_data=ds_test,\n",
        "                 callbacks=[tf.keras.callbacks.EarlyStopping(patience=10)],\n",
        "                 verbose=2)\n",
        "print(model.evaluate(ds_test))\n",
        "plot_hist(hist)"
      ],
      "execution_count": 24,
      "outputs": [
        {
          "output_type": "stream",
          "text": [
            "INFO:tensorflow:Reduce to /job:localhost/replica:0/task:0/device:CPU:0 then broadcast to ('/job:localhost/replica:0/task:0/device:CPU:0',).\n"
          ],
          "name": "stdout"
        },
        {
          "output_type": "stream",
          "text": [
            "INFO:tensorflow:Reduce to /job:localhost/replica:0/task:0/device:CPU:0 then broadcast to ('/job:localhost/replica:0/task:0/device:CPU:0',).\n"
          ],
          "name": "stderr"
        },
        {
          "output_type": "stream",
          "text": [
            "INFO:tensorflow:Reduce to /job:localhost/replica:0/task:0/device:CPU:0 then broadcast to ('/job:localhost/replica:0/task:0/device:CPU:0',).\n"
          ],
          "name": "stdout"
        },
        {
          "output_type": "stream",
          "text": [
            "INFO:tensorflow:Reduce to /job:localhost/replica:0/task:0/device:CPU:0 then broadcast to ('/job:localhost/replica:0/task:0/device:CPU:0',).\n"
          ],
          "name": "stderr"
        },
        {
          "output_type": "stream",
          "text": [
            "INFO:tensorflow:Reduce to /job:localhost/replica:0/task:0/device:CPU:0 then broadcast to ('/job:localhost/replica:0/task:0/device:CPU:0',).\n"
          ],
          "name": "stdout"
        },
        {
          "output_type": "stream",
          "text": [
            "INFO:tensorflow:Reduce to /job:localhost/replica:0/task:0/device:CPU:0 then broadcast to ('/job:localhost/replica:0/task:0/device:CPU:0',).\n"
          ],
          "name": "stderr"
        },
        {
          "output_type": "stream",
          "text": [
            "INFO:tensorflow:Reduce to /job:localhost/replica:0/task:0/device:CPU:0 then broadcast to ('/job:localhost/replica:0/task:0/device:CPU:0',).\n"
          ],
          "name": "stdout"
        },
        {
          "output_type": "stream",
          "text": [
            "INFO:tensorflow:Reduce to /job:localhost/replica:0/task:0/device:CPU:0 then broadcast to ('/job:localhost/replica:0/task:0/device:CPU:0',).\n"
          ],
          "name": "stderr"
        },
        {
          "output_type": "stream",
          "text": [
            "INFO:tensorflow:Reduce to /job:localhost/replica:0/task:0/device:CPU:0 then broadcast to ('/job:localhost/replica:0/task:0/device:CPU:0',).\n"
          ],
          "name": "stdout"
        },
        {
          "output_type": "stream",
          "text": [
            "INFO:tensorflow:Reduce to /job:localhost/replica:0/task:0/device:CPU:0 then broadcast to ('/job:localhost/replica:0/task:0/device:CPU:0',).\n"
          ],
          "name": "stderr"
        },
        {
          "output_type": "stream",
          "text": [
            "INFO:tensorflow:Reduce to /job:localhost/replica:0/task:0/device:CPU:0 then broadcast to ('/job:localhost/replica:0/task:0/device:CPU:0',).\n"
          ],
          "name": "stdout"
        },
        {
          "output_type": "stream",
          "text": [
            "INFO:tensorflow:Reduce to /job:localhost/replica:0/task:0/device:CPU:0 then broadcast to ('/job:localhost/replica:0/task:0/device:CPU:0',).\n"
          ],
          "name": "stderr"
        },
        {
          "output_type": "stream",
          "text": [
            "INFO:tensorflow:Reduce to /job:localhost/replica:0/task:0/device:CPU:0 then broadcast to ('/job:localhost/replica:0/task:0/device:CPU:0',).\n"
          ],
          "name": "stdout"
        },
        {
          "output_type": "stream",
          "text": [
            "INFO:tensorflow:Reduce to /job:localhost/replica:0/task:0/device:CPU:0 then broadcast to ('/job:localhost/replica:0/task:0/device:CPU:0',).\n"
          ],
          "name": "stderr"
        },
        {
          "output_type": "stream",
          "text": [
            "INFO:tensorflow:Reduce to /job:localhost/replica:0/task:0/device:CPU:0 then broadcast to ('/job:localhost/replica:0/task:0/device:CPU:0',).\n"
          ],
          "name": "stdout"
        },
        {
          "output_type": "stream",
          "text": [
            "INFO:tensorflow:Reduce to /job:localhost/replica:0/task:0/device:CPU:0 then broadcast to ('/job:localhost/replica:0/task:0/device:CPU:0',).\n"
          ],
          "name": "stderr"
        },
        {
          "output_type": "stream",
          "text": [
            "INFO:tensorflow:Reduce to /job:localhost/replica:0/task:0/device:CPU:0 then broadcast to ('/job:localhost/replica:0/task:0/device:CPU:0',).\n"
          ],
          "name": "stdout"
        },
        {
          "output_type": "stream",
          "text": [
            "INFO:tensorflow:Reduce to /job:localhost/replica:0/task:0/device:CPU:0 then broadcast to ('/job:localhost/replica:0/task:0/device:CPU:0',).\n"
          ],
          "name": "stderr"
        },
        {
          "output_type": "stream",
          "text": [
            "INFO:tensorflow:Reduce to /job:localhost/replica:0/task:0/device:CPU:0 then broadcast to ('/job:localhost/replica:0/task:0/device:CPU:0',).\n"
          ],
          "name": "stdout"
        },
        {
          "output_type": "stream",
          "text": [
            "INFO:tensorflow:Reduce to /job:localhost/replica:0/task:0/device:CPU:0 then broadcast to ('/job:localhost/replica:0/task:0/device:CPU:0',).\n"
          ],
          "name": "stderr"
        },
        {
          "output_type": "stream",
          "text": [
            "Downloading data from https://storage.googleapis.com/keras-applications/efficientnetb0_notop.h5\n",
            "16711680/16705208 [==============================] - 0s 0us/step\n",
            "Epoch 1/25\n",
            "93/93 - 76s - loss: 2.4581 - accuracy: 0.3973 - val_loss: 0.7843 - val_accuracy: 0.7615\n",
            "Epoch 2/25\n",
            "93/93 - 21s - loss: 1.7700 - accuracy: 0.5305 - val_loss: 0.7772 - val_accuracy: 0.7681\n",
            "Epoch 3/25\n",
            "93/93 - 21s - loss: 1.6537 - accuracy: 0.5614 - val_loss: 0.7477 - val_accuracy: 0.7831\n",
            "Epoch 4/25\n",
            "93/93 - 21s - loss: 1.5997 - accuracy: 0.5783 - val_loss: 0.8060 - val_accuracy: 0.7744\n",
            "Epoch 5/25\n",
            "93/93 - 21s - loss: 1.5421 - accuracy: 0.5958 - val_loss: 0.8321 - val_accuracy: 0.7711\n",
            "Epoch 6/25\n",
            "93/93 - 21s - loss: 1.5288 - accuracy: 0.6011 - val_loss: 0.8252 - val_accuracy: 0.7727\n",
            "Epoch 7/25\n",
            "93/93 - 21s - loss: 1.5060 - accuracy: 0.6055 - val_loss: 0.8034 - val_accuracy: 0.7826\n",
            "Epoch 8/25\n",
            "93/93 - 21s - loss: 1.4790 - accuracy: 0.6137 - val_loss: 0.8342 - val_accuracy: 0.7812\n",
            "Epoch 9/25\n",
            "93/93 - 21s - loss: 1.4627 - accuracy: 0.6237 - val_loss: 0.8494 - val_accuracy: 0.7814\n",
            "Epoch 10/25\n",
            "93/93 - 21s - loss: 1.4264 - accuracy: 0.6316 - val_loss: 0.8838 - val_accuracy: 0.7741\n",
            "Epoch 11/25\n",
            "93/93 - 21s - loss: 1.4353 - accuracy: 0.6282 - val_loss: 0.8851 - val_accuracy: 0.7722\n",
            "Epoch 12/25\n",
            "93/93 - 21s - loss: 1.4276 - accuracy: 0.6415 - val_loss: 0.8753 - val_accuracy: 0.7790\n",
            "Epoch 13/25\n",
            "93/93 - 21s - loss: 1.4521 - accuracy: 0.6310 - val_loss: 0.9018 - val_accuracy: 0.7804\n",
            "67/67 [==============================] - 10s 139ms/step - loss: 0.9018 - accuracy: 0.7804\n",
            "[0.9017983078956604, 0.7804337739944458]\n"
          ],
          "name": "stdout"
        },
        {
          "output_type": "display_data",
          "data": {
            "image/png": "[encoded data removed]",
            "text/plain": [
              "<Figure size 432x288 with 1 Axes>"
            ]
          },
          "metadata": {
            "tags": [],
            "needs_background": "light"
          }
        }
      ]
    },
    {
      "cell_type": "markdown",
      "metadata": {
        "id": "bjtOHXpIr7d0"
      },
      "source": [
        "The Pruno2D layer confuses this process. This makes sense: Pruno2D critiques the feature maps handed to it from previous layers. If the previous layers cannot be retrained, the network cannot improve from the criticism. And, the dropout events confuse the subsequent layers. Try this again with the internal 'top' layers unfrozen."
      ]
    },
    {
      "cell_type": "code",
      "metadata": {
        "colab": {
          "base_uri": "https://localhost:8080/",
          "height": 1000
        },
        "id": "p0NY16-dr54K",
        "outputId": "645b794b-604d-4257-8afb-04693090f94b"
      },
      "source": [
        "with strategy.scope():\n",
        "    model, _, _ = build_model_pruno(num_classes=NUM_CLASSES)\n",
        "\n",
        "unfreeze_model(model, block7=False, lr=1e-4)\n",
        "\n",
        "epochs = 200  # @param {type: \"slider\", min:8, max:200}\n",
        "hist = model.fit(ds_train, epochs=epochs, validation_data=ds_test,\n",
        "                 callbacks=[tf.keras.callbacks.EarlyStopping(patience=10)],\n",
        "                 verbose=2)\n",
        "print(model.evaluate(ds_test))\n",
        "plot_hist(hist)"
      ],
      "execution_count": 25,
      "outputs": [
        {
          "output_type": "stream",
          "text": [
            "unfreeze layer 235 of 242: top_conv\n",
            "unfreeze layer 237 of 242: top_activation\n",
            "Epoch 1/200\n",
            "93/93 - 58s - loss: 4.6292 - accuracy: 0.0429 - val_loss: 3.9942 - val_accuracy: 0.2537\n",
            "Epoch 2/200\n",
            "93/93 - 21s - loss: 4.0401 - accuracy: 0.1765 - val_loss: 3.1190 - val_accuracy: 0.4712\n",
            "Epoch 3/200\n",
            "93/93 - 21s - loss: 3.4572 - accuracy: 0.2916 - val_loss: 2.2991 - val_accuracy: 0.5859\n",
            "Epoch 4/200\n",
            "93/93 - 21s - loss: 2.9197 - accuracy: 0.3679 - val_loss: 1.7003 - val_accuracy: 0.6524\n",
            "Epoch 5/200\n",
            "93/93 - 21s - loss: 2.5339 - accuracy: 0.4199 - val_loss: 1.3413 - val_accuracy: 0.6986\n",
            "Epoch 6/200\n",
            "93/93 - 21s - loss: 2.2698 - accuracy: 0.4483 - val_loss: 1.1337 - val_accuracy: 0.7235\n",
            "Epoch 7/200\n",
            "93/93 - 21s - loss: 2.0830 - accuracy: 0.4739 - val_loss: 1.0052 - val_accuracy: 0.7415\n",
            "Epoch 8/200\n",
            "93/93 - 21s - loss: 1.9425 - accuracy: 0.4956 - val_loss: 0.9213 - val_accuracy: 0.7512\n",
            "Epoch 9/200\n",
            "93/93 - 21s - loss: 1.8608 - accuracy: 0.5129 - val_loss: 0.8645 - val_accuracy: 0.7659\n",
            "Epoch 10/200\n",
            "93/93 - 21s - loss: 1.7899 - accuracy: 0.5210 - val_loss: 0.8220 - val_accuracy: 0.7711\n",
            "Epoch 11/200\n",
            "93/93 - 21s - loss: 1.7274 - accuracy: 0.5320 - val_loss: 0.7924 - val_accuracy: 0.7759\n",
            "Epoch 12/200\n",
            "93/93 - 21s - loss: 1.6758 - accuracy: 0.5469 - val_loss: 0.7689 - val_accuracy: 0.7775\n",
            "Epoch 13/200\n",
            "93/93 - 21s - loss: 1.6449 - accuracy: 0.5490 - val_loss: 0.7490 - val_accuracy: 0.7831\n",
            "Epoch 14/200\n",
            "93/93 - 21s - loss: 1.6012 - accuracy: 0.5623 - val_loss: 0.7331 - val_accuracy: 0.7864\n",
            "Epoch 15/200\n",
            "93/93 - 21s - loss: 1.5552 - accuracy: 0.5691 - val_loss: 0.7198 - val_accuracy: 0.7860\n",
            "Epoch 16/200\n",
            "93/93 - 21s - loss: 1.5198 - accuracy: 0.5800 - val_loss: 0.7073 - val_accuracy: 0.7871\n",
            "Epoch 17/200\n",
            "93/93 - 21s - loss: 1.5099 - accuracy: 0.5837 - val_loss: 0.6982 - val_accuracy: 0.7879\n",
            "Epoch 18/200\n",
            "93/93 - 21s - loss: 1.4723 - accuracy: 0.5855 - val_loss: 0.6904 - val_accuracy: 0.7915\n",
            "Epoch 19/200\n",
            "93/93 - 22s - loss: 1.4542 - accuracy: 0.5932 - val_loss: 0.6830 - val_accuracy: 0.7942\n",
            "Epoch 20/200\n",
            "93/93 - 21s - loss: 1.4356 - accuracy: 0.5979 - val_loss: 0.6762 - val_accuracy: 0.7934\n",
            "Epoch 21/200\n",
            "93/93 - 21s - loss: 1.4151 - accuracy: 0.6060 - val_loss: 0.6710 - val_accuracy: 0.7949\n",
            "Epoch 22/200\n",
            "93/93 - 21s - loss: 1.3942 - accuracy: 0.6098 - val_loss: 0.6664 - val_accuracy: 0.7959\n",
            "Epoch 23/200\n",
            "93/93 - 21s - loss: 1.3874 - accuracy: 0.6074 - val_loss: 0.6613 - val_accuracy: 0.7969\n",
            "Epoch 24/200\n",
            "93/93 - 21s - loss: 1.3618 - accuracy: 0.6156 - val_loss: 0.6580 - val_accuracy: 0.7957\n",
            "Epoch 25/200\n",
            "93/93 - 21s - loss: 1.3510 - accuracy: 0.6186 - val_loss: 0.6532 - val_accuracy: 0.7996\n",
            "Epoch 26/200\n",
            "93/93 - 21s - loss: 1.3328 - accuracy: 0.6244 - val_loss: 0.6483 - val_accuracy: 0.8007\n",
            "Epoch 27/200\n",
            "93/93 - 22s - loss: 1.3180 - accuracy: 0.6235 - val_loss: 0.6445 - val_accuracy: 0.8026\n",
            "Epoch 28/200\n",
            "93/93 - 22s - loss: 1.3155 - accuracy: 0.6244 - val_loss: 0.6436 - val_accuracy: 0.8022\n",
            "Epoch 29/200\n",
            "93/93 - 22s - loss: 1.2692 - accuracy: 0.6424 - val_loss: 0.6385 - val_accuracy: 0.8018\n",
            "Epoch 30/200\n",
            "93/93 - 21s - loss: 1.2800 - accuracy: 0.6385 - val_loss: 0.6390 - val_accuracy: 0.8019\n",
            "Epoch 31/200\n",
            "93/93 - 21s - loss: 1.2328 - accuracy: 0.6499 - val_loss: 0.6360 - val_accuracy: 0.8018\n",
            "Epoch 32/200\n",
            "93/93 - 21s - loss: 1.2593 - accuracy: 0.6444 - val_loss: 0.6357 - val_accuracy: 0.8026\n",
            "Epoch 33/200\n",
            "93/93 - 21s - loss: 1.2211 - accuracy: 0.6488 - val_loss: 0.6337 - val_accuracy: 0.8038\n",
            "Epoch 34/200\n",
            "93/93 - 21s - loss: 1.2313 - accuracy: 0.6502 - val_loss: 0.6311 - val_accuracy: 0.8056\n",
            "Epoch 35/200\n",
            "93/93 - 21s - loss: 1.2142 - accuracy: 0.6507 - val_loss: 0.6257 - val_accuracy: 0.8056\n",
            "Epoch 36/200\n",
            "93/93 - 21s - loss: 1.2047 - accuracy: 0.6626 - val_loss: 0.6256 - val_accuracy: 0.8039\n",
            "Epoch 37/200\n",
            "93/93 - 21s - loss: 1.1944 - accuracy: 0.6603 - val_loss: 0.6244 - val_accuracy: 0.8052\n",
            "Epoch 38/200\n",
            "93/93 - 21s - loss: 1.1892 - accuracy: 0.6580 - val_loss: 0.6254 - val_accuracy: 0.8040\n",
            "Epoch 39/200\n",
            "93/93 - 21s - loss: 1.1787 - accuracy: 0.6620 - val_loss: 0.6253 - val_accuracy: 0.8050\n",
            "Epoch 40/200\n",
            "93/93 - 21s - loss: 1.1578 - accuracy: 0.6706 - val_loss: 0.6236 - val_accuracy: 0.8053\n",
            "Epoch 41/200\n",
            "93/93 - 21s - loss: 1.1443 - accuracy: 0.6754 - val_loss: 0.6220 - val_accuracy: 0.8063\n",
            "Epoch 42/200\n",
            "93/93 - 21s - loss: 1.1494 - accuracy: 0.6689 - val_loss: 0.6240 - val_accuracy: 0.8056\n",
            "Epoch 43/200\n",
            "93/93 - 21s - loss: 1.1381 - accuracy: 0.6774 - val_loss: 0.6197 - val_accuracy: 0.8050\n",
            "Epoch 44/200\n",
            "93/93 - 21s - loss: 1.1358 - accuracy: 0.6736 - val_loss: 0.6196 - val_accuracy: 0.8047\n",
            "Epoch 45/200\n",
            "93/93 - 21s - loss: 1.1181 - accuracy: 0.6782 - val_loss: 0.6187 - val_accuracy: 0.8059\n",
            "Epoch 46/200\n",
            "93/93 - 21s - loss: 1.0967 - accuracy: 0.6865 - val_loss: 0.6155 - val_accuracy: 0.8066\n",
            "Epoch 47/200\n",
            "93/93 - 21s - loss: 1.0800 - accuracy: 0.6867 - val_loss: 0.6155 - val_accuracy: 0.8078\n",
            "Epoch 48/200\n",
            "93/93 - 21s - loss: 1.0902 - accuracy: 0.6865 - val_loss: 0.6173 - val_accuracy: 0.8076\n",
            "Epoch 49/200\n",
            "93/93 - 21s - loss: 1.0714 - accuracy: 0.6920 - val_loss: 0.6169 - val_accuracy: 0.8071\n",
            "Epoch 50/200\n",
            "93/93 - 21s - loss: 1.0650 - accuracy: 0.6941 - val_loss: 0.6152 - val_accuracy: 0.8073\n",
            "Epoch 51/200\n",
            "93/93 - 21s - loss: 1.0579 - accuracy: 0.6997 - val_loss: 0.6157 - val_accuracy: 0.8056\n",
            "Epoch 52/200\n",
            "93/93 - 21s - loss: 1.0587 - accuracy: 0.6961 - val_loss: 0.6158 - val_accuracy: 0.8059\n",
            "Epoch 53/200\n",
            "93/93 - 21s - loss: 1.0580 - accuracy: 0.6893 - val_loss: 0.6142 - val_accuracy: 0.8059\n",
            "Epoch 54/200\n",
            "93/93 - 21s - loss: 1.0436 - accuracy: 0.6997 - val_loss: 0.6171 - val_accuracy: 0.8039\n",
            "Epoch 55/200\n",
            "93/93 - 21s - loss: 1.0262 - accuracy: 0.7063 - val_loss: 0.6153 - val_accuracy: 0.8077\n",
            "Epoch 56/200\n",
            "93/93 - 21s - loss: 1.0378 - accuracy: 0.6980 - val_loss: 0.6181 - val_accuracy: 0.8032\n",
            "Epoch 57/200\n",
            "93/93 - 21s - loss: 1.0265 - accuracy: 0.7066 - val_loss: 0.6157 - val_accuracy: 0.8059\n",
            "Epoch 58/200\n",
            "93/93 - 21s - loss: 1.0089 - accuracy: 0.7105 - val_loss: 0.6155 - val_accuracy: 0.8069\n",
            "Epoch 59/200\n",
            "93/93 - 21s - loss: 1.0030 - accuracy: 0.7070 - val_loss: 0.6127 - val_accuracy: 0.8069\n",
            "Epoch 60/200\n",
            "93/93 - 21s - loss: 0.9980 - accuracy: 0.7117 - val_loss: 0.6123 - val_accuracy: 0.8081\n",
            "Epoch 61/200\n",
            "93/93 - 21s - loss: 0.9937 - accuracy: 0.7130 - val_loss: 0.6105 - val_accuracy: 0.8099\n",
            "Epoch 62/200\n",
            "93/93 - 21s - loss: 0.9773 - accuracy: 0.7186 - val_loss: 0.6101 - val_accuracy: 0.8081\n",
            "Epoch 63/200\n",
            "93/93 - 21s - loss: 0.9847 - accuracy: 0.7119 - val_loss: 0.6089 - val_accuracy: 0.8060\n",
            "Epoch 64/200\n",
            "93/93 - 21s - loss: 0.9865 - accuracy: 0.7145 - val_loss: 0.6108 - val_accuracy: 0.8091\n",
            "Epoch 65/200\n",
            "93/93 - 21s - loss: 0.9747 - accuracy: 0.7205 - val_loss: 0.6111 - val_accuracy: 0.8071\n",
            "Epoch 66/200\n",
            "93/93 - 22s - loss: 0.9763 - accuracy: 0.7147 - val_loss: 0.6096 - val_accuracy: 0.8088\n",
            "Epoch 67/200\n",
            "93/93 - 21s - loss: 0.9568 - accuracy: 0.7230 - val_loss: 0.6112 - val_accuracy: 0.8069\n",
            "Epoch 68/200\n",
            "93/93 - 21s - loss: 0.9634 - accuracy: 0.7198 - val_loss: 0.6109 - val_accuracy: 0.8063\n",
            "Epoch 69/200\n",
            "93/93 - 21s - loss: 0.9346 - accuracy: 0.7300 - val_loss: 0.6107 - val_accuracy: 0.8071\n",
            "Epoch 70/200\n",
            "93/93 - 20s - loss: 0.9225 - accuracy: 0.7348 - val_loss: 0.6073 - val_accuracy: 0.8095\n",
            "Epoch 71/200\n",
            "93/93 - 21s - loss: 0.9330 - accuracy: 0.7314 - val_loss: 0.6096 - val_accuracy: 0.8084\n",
            "Epoch 72/200\n",
            "93/93 - 21s - loss: 0.9269 - accuracy: 0.7319 - val_loss: 0.6092 - val_accuracy: 0.8078\n",
            "Epoch 73/200\n",
            "93/93 - 21s - loss: 0.9028 - accuracy: 0.7428 - val_loss: 0.6096 - val_accuracy: 0.8097\n",
            "Epoch 74/200\n",
            "93/93 - 21s - loss: 0.9215 - accuracy: 0.7304 - val_loss: 0.6113 - val_accuracy: 0.8084\n",
            "Epoch 75/200\n",
            "93/93 - 21s - loss: 0.9225 - accuracy: 0.7352 - val_loss: 0.6095 - val_accuracy: 0.8088\n",
            "Epoch 76/200\n",
            "93/93 - 21s - loss: 0.9157 - accuracy: 0.7364 - val_loss: 0.6091 - val_accuracy: 0.8101\n",
            "Epoch 77/200\n",
            "93/93 - 20s - loss: 0.9167 - accuracy: 0.7372 - val_loss: 0.6119 - val_accuracy: 0.8080\n",
            "Epoch 78/200\n",
            "93/93 - 20s - loss: 0.8977 - accuracy: 0.7417 - val_loss: 0.6129 - val_accuracy: 0.8063\n",
            "Epoch 79/200\n",
            "93/93 - 20s - loss: 0.8870 - accuracy: 0.7450 - val_loss: 0.6112 - val_accuracy: 0.8077\n",
            "Epoch 80/200\n",
            "93/93 - 20s - loss: 0.8846 - accuracy: 0.7391 - val_loss: 0.6131 - val_accuracy: 0.8068\n",
            "67/67 [==============================] - 10s 138ms/step - loss: 0.6131 - accuracy: 0.8068\n",
            "[0.6131252646446228, 0.8067863583564758]\n"
          ],
          "name": "stdout"
        },
        {
          "output_type": "display_data",
          "data": {
            "image/png": "[encoded data removed]",
            "text/plain": [
              "<Figure size 432x288 with 1 Axes>"
            ]
          },
          "metadata": {
            "tags": [],
            "needs_background": "light"
          }
        }
      ]
    },
    {
      "cell_type": "markdown",
      "metadata": {
        "id": "KGBk3AFfJ3tO"
      },
      "source": [
        "Note that the val_loss drops steadily, unlike all previous training sessions. I believe that this implies that this is an optimal combination of trainable layers and learning rate."
      ]
    },
    {
      "cell_type": "markdown",
      "metadata": {
        "id": "f5TEuY9jDb6V"
      },
      "source": [
        "Finally, we will test the effects of unfreezing block7 along with the top layers. We will adjust the learning rate to accomodate the larger number of layers."
      ]
    },
    {
      "cell_type": "code",
      "metadata": {
        "colab": {
          "base_uri": "https://localhost:8080/",
          "height": 1000
        },
        "id": "H_9kCssoD-0a",
        "outputId": "3a0d63c9-092a-4f91-a379-244c17b86b25"
      },
      "source": [
        "with strategy.scope():\n",
        "    model, _, _ = build_model_pruno(num_classes=NUM_CLASSES)\n",
        "\n",
        "unfreeze_model(model, block7=True, lr=1e-4)\n",
        "\n",
        "epochs = 200  # @param {type: \"slider\", min:8, max:200}\n",
        "hist = model.fit(ds_train, epochs=epochs, validation_data=ds_test,\n",
        "                 callbacks=[tf.keras.callbacks.EarlyStopping(patience=10)],\n",
        "                 verbose=2)\n",
        "print(model.evaluate(ds_test))\n",
        "plot_hist(hist)"
      ],
      "execution_count": 31,
      "outputs": [
        {
          "output_type": "stream",
          "text": [
            "unfreeze layer 222 of 242: block7a_expand_conv\n",
            "unfreeze layer 224 of 242: block7a_expand_activation\n",
            "unfreeze layer 225 of 242: block7a_dwconv\n",
            "unfreeze layer 227 of 242: block7a_activation\n",
            "unfreeze layer 228 of 242: block7a_se_squeeze\n",
            "unfreeze layer 229 of 242: block7a_se_reshape\n",
            "unfreeze layer 230 of 242: block7a_se_reduce\n",
            "unfreeze layer 231 of 242: block7a_se_expand\n",
            "unfreeze layer 232 of 242: block7a_se_excite\n",
            "unfreeze layer 233 of 242: block7a_project_conv\n",
            "unfreeze layer 235 of 242: top_conv\n",
            "unfreeze layer 237 of 242: top_activation\n",
            "Epoch 1/200\n",
            "93/93 - 57s - loss: 4.4541 - accuracy: 0.0754 - val_loss: 3.0183 - val_accuracy: 0.3855\n",
            "Epoch 2/200\n",
            "93/93 - 21s - loss: 2.8701 - accuracy: 0.2892 - val_loss: 1.2969 - val_accuracy: 0.6376\n",
            "Epoch 3/200\n",
            "93/93 - 21s - loss: 2.1870 - accuracy: 0.4048 - val_loss: 1.0169 - val_accuracy: 0.7000\n",
            "Epoch 4/200\n",
            "93/93 - 21s - loss: 1.9381 - accuracy: 0.4599 - val_loss: 0.8952 - val_accuracy: 0.7340\n",
            "Epoch 5/200\n",
            "93/93 - 21s - loss: 1.8162 - accuracy: 0.4925 - val_loss: 0.8359 - val_accuracy: 0.7531\n",
            "Epoch 6/200\n",
            "93/93 - 21s - loss: 1.7135 - accuracy: 0.5169 - val_loss: 0.7927 - val_accuracy: 0.7615\n",
            "Epoch 7/200\n",
            "93/93 - 21s - loss: 1.6397 - accuracy: 0.5312 - val_loss: 0.7712 - val_accuracy: 0.7675\n",
            "Epoch 8/200\n",
            "93/93 - 21s - loss: 1.5578 - accuracy: 0.5530 - val_loss: 0.7508 - val_accuracy: 0.7736\n",
            "Epoch 9/200\n",
            "93/93 - 22s - loss: 1.5039 - accuracy: 0.5707 - val_loss: 0.7197 - val_accuracy: 0.7814\n",
            "Epoch 10/200\n",
            "93/93 - 21s - loss: 1.4442 - accuracy: 0.5813 - val_loss: 0.7155 - val_accuracy: 0.7817\n",
            "Epoch 11/200\n",
            "93/93 - 21s - loss: 1.3777 - accuracy: 0.6009 - val_loss: 0.7008 - val_accuracy: 0.7872\n",
            "Epoch 12/200\n",
            "93/93 - 21s - loss: 1.3575 - accuracy: 0.6074 - val_loss: 0.7018 - val_accuracy: 0.7835\n",
            "Epoch 13/200\n",
            "93/93 - 21s - loss: 1.3126 - accuracy: 0.6192 - val_loss: 0.6943 - val_accuracy: 0.7854\n",
            "Epoch 14/200\n",
            "93/93 - 21s - loss: 1.2753 - accuracy: 0.6265 - val_loss: 0.6921 - val_accuracy: 0.7846\n",
            "Epoch 15/200\n",
            "93/93 - 21s - loss: 1.2462 - accuracy: 0.6326 - val_loss: 0.6885 - val_accuracy: 0.7867\n",
            "Epoch 16/200\n",
            "93/93 - 21s - loss: 1.2038 - accuracy: 0.6470 - val_loss: 0.6783 - val_accuracy: 0.7892\n",
            "Epoch 17/200\n",
            "93/93 - 21s - loss: 1.1806 - accuracy: 0.6521 - val_loss: 0.6743 - val_accuracy: 0.7872\n",
            "Epoch 18/200\n",
            "93/93 - 20s - loss: 1.1401 - accuracy: 0.6624 - val_loss: 0.6776 - val_accuracy: 0.7887\n",
            "Epoch 19/200\n",
            "93/93 - 20s - loss: 1.1035 - accuracy: 0.6708 - val_loss: 0.6756 - val_accuracy: 0.7885\n",
            "Epoch 20/200\n",
            "93/93 - 20s - loss: 1.0919 - accuracy: 0.6746 - val_loss: 0.6762 - val_accuracy: 0.7907\n",
            "Epoch 21/200\n",
            "93/93 - 20s - loss: 1.0610 - accuracy: 0.6825 - val_loss: 0.6737 - val_accuracy: 0.7909\n",
            "Epoch 22/200\n",
            "93/93 - 20s - loss: 1.0327 - accuracy: 0.6915 - val_loss: 0.6745 - val_accuracy: 0.7875\n",
            "Epoch 23/200\n",
            "93/93 - 20s - loss: 1.0021 - accuracy: 0.7025 - val_loss: 0.6767 - val_accuracy: 0.7881\n",
            "Epoch 24/200\n",
            "93/93 - 20s - loss: 0.9708 - accuracy: 0.7087 - val_loss: 0.6721 - val_accuracy: 0.7910\n",
            "Epoch 25/200\n",
            "93/93 - 20s - loss: 0.9648 - accuracy: 0.7092 - val_loss: 0.6796 - val_accuracy: 0.7879\n",
            "Epoch 26/200\n",
            "93/93 - 20s - loss: 0.9305 - accuracy: 0.7125 - val_loss: 0.6811 - val_accuracy: 0.7882\n",
            "Epoch 27/200\n",
            "93/93 - 20s - loss: 0.9095 - accuracy: 0.7250 - val_loss: 0.6782 - val_accuracy: 0.7885\n",
            "Epoch 28/200\n",
            "93/93 - 20s - loss: 0.8758 - accuracy: 0.7399 - val_loss: 0.6885 - val_accuracy: 0.7857\n",
            "Epoch 29/200\n",
            "93/93 - 20s - loss: 0.8651 - accuracy: 0.7351 - val_loss: 0.6915 - val_accuracy: 0.7870\n",
            "Epoch 30/200\n",
            "93/93 - 20s - loss: 0.8543 - accuracy: 0.7400 - val_loss: 0.6916 - val_accuracy: 0.7856\n",
            "Epoch 31/200\n",
            "93/93 - 20s - loss: 0.8389 - accuracy: 0.7434 - val_loss: 0.6902 - val_accuracy: 0.7859\n",
            "Epoch 32/200\n",
            "93/93 - 20s - loss: 0.8202 - accuracy: 0.7499 - val_loss: 0.6909 - val_accuracy: 0.7861\n",
            "Epoch 33/200\n",
            "93/93 - 20s - loss: 0.7969 - accuracy: 0.7576 - val_loss: 0.7025 - val_accuracy: 0.7846\n",
            "Epoch 34/200\n",
            "93/93 - 20s - loss: 0.7685 - accuracy: 0.7610 - val_loss: 0.7012 - val_accuracy: 0.7881\n",
            "67/67 [==============================] - 9s 133ms/step - loss: 0.7012 - accuracy: 0.7881\n",
            "[0.701208770275116, 0.7881296873092651]\n"
          ],
          "name": "stdout"
        },
        {
          "output_type": "display_data",
          "data": {
            "image/png": "[encoded data removed]",
            "text/plain": [
              "<Figure size 432x288 with 1 Axes>"
            ]
          },
          "metadata": {
            "tags": [],
            "needs_background": "light"
          }
        }
      ]
    }
  ]
}